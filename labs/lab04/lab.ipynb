{
 "cells": [
  {
   "cell_type": "code",
   "execution_count": 3,
   "metadata": {
    "deletable": false,
    "editable": false
   },
   "outputs": [],
   "source": [
    "# Initialize Otter\n",
    "import otter\n",
    "grader = otter.Notebook(\"lab.ipynb\")"
   ]
  },
  {
   "cell_type": "markdown",
   "metadata": {},
   "source": [
    "# Lab 4 – Hypothesis and Permutation Testing\n",
    "\n",
    "## DSC 80, Fall 2024\n",
    "\n",
    "### Due Date: Monday, October 25th at 11:59PM"
   ]
  },
  {
   "cell_type": "markdown",
   "metadata": {},
   "source": [
    "## Instructions\n",
    "\n",
    "Welcome to the fourth DSC 80 lab this quarter!\n",
    "\n",
    "Much like in DSC 10, this Jupyter Notebook contains the statements of the problems and provides code and Markdown cells to display your answers to the problems. Unlike DSC 10, the notebook is *only* for displaying a readable version of your final answers. The coding will be done in an accompanying `lab.py` file that is imported into the current notebook, and **you will only submit that `lab.py` file**, not this notebook!\n",
    "\n",
    "Some additional guidelines:\n",
    "- **Unlike in DSC 10, labs will have both public tests and hidden tests.** The bulk of your grade will come from your scores on hidden tests, which you will only see on Gradescope after the assignment deadline.\n",
    "- **Do not change the function names in the `lab.py` file!** The functions in the `lab.py` file are how your assignment is graded, and they are graded by their name. If you changed something you weren't supposed to, you can find the original code in the [course GitHub repository](https://github.com/dsc-courses/dsc80-2024-fa).\n",
    "- Notebooks are nice for testing and experimenting with different implementations before designing your function in your `lab.py` file. You can write code here, but make sure that all of your real work is in the `lab.py` file, since that's all you're submitting.\n",
    "- You are encouraged to write your own additional helper functions to solve the lab, as long as they also end up in `lab.py`.\n",
    "\n",
    "**To ensure that all of the work you want to submit is in `lab.py`, we've included a script named `lab-validation.py` in the lab folder. You shouldn't edit it, but instead, you should call it from the command line (e.g. the Terminal) to test your work.** More details on its usage are given at the bottom of this notebook.\n",
    "\n",
    "**Importing code from `lab.py`**:\n",
    "\n",
    "* Below, we import the `.py` file that's contained in the same directory as this notebook.\n",
    "* We use the `autoreload` notebook extension to make changes to our `lab.py` file immediately available in our notebook. Without this extension, we would need to restart the notebook kernel to see any changes to `lab.py` in the notebook.\n",
    "    - `autoreload` is necessary because, upon import, `lab.py` is compiled to bytecode (in the directory `__pycache__`). Subsequent imports of `lab` merely import the existing compiled python."
   ]
  },
  {
   "cell_type": "code",
   "execution_count": 4,
   "metadata": {},
   "outputs": [],
   "source": [
    "%load_ext autoreload\n",
    "%autoreload 2"
   ]
  },
  {
   "cell_type": "code",
   "execution_count": 5,
   "metadata": {},
   "outputs": [],
   "source": [
    "from lab import *"
   ]
  },
  {
   "cell_type": "code",
   "execution_count": 6,
   "metadata": {},
   "outputs": [],
   "source": [
    "import pandas as pd\n",
    "import numpy as np\n",
    "import io\n",
    "from pathlib import Path\n",
    "import os"
   ]
  },
  {
   "cell_type": "markdown",
   "metadata": {},
   "source": [
    "<div class=\"alert alert-block alert-danger\" markdown=\"1\">\n",
    "\n",
    "**You cannot use `for`-loops in Part 1 (Time Series Data) or Part 2 (Hypothesis Testing), but you can use them in Part 3 (Permutation Testing).**\n",
    "\n",
    "</div>\n",
    "\n",
    "## Part 1: Time Series Data\n",
    "\n",
    "Imagine that you own an online store and you'd like to monitor the visits to your site. You've collected information about different login dates and times for different users and stored it in `data/login_table.csv`. Some users are unique, while some visited your store multiple times.\n",
    "\n",
    "Answer the questions below to better understand the login patterns of your users."
   ]
  },
  {
   "cell_type": "markdown",
   "metadata": {},
   "source": [
    "### Question 1 – Prime Time ⏰\n",
    "\n",
    "Complete the implementation of the function `prime_time_logins`, which takes in a DataFrame like `login` and outputs a DataFrame indexed by `'Login Id'`, counting the number of prime-time logins for each user – that is, the number of logins that were between 4PM (inclusive) and 8PM (exclusive) for each user. The DataFrame should have just one column, named `'Time'`.\n",
    "\n",
    "For example, if a user logs in at 5PM on Day 1, at 1PM on Day 2, at 6PM on Day 2, and at 7PM on Day 2, then their total number of prime-time logins is 3. Note that the values in your returned DataFrame should only include counts, not timestamp objects.\n",
    "\n",
    "***Note***: You do not need to use Python's `datetime` module – instead, use the built-in `pandas` methods for working with times that we introduced in [Lecture 5](https://dsc80.com/resources/lectures/lec05/lec05.html#Creating-timestamps) (though you may need to do a bit more research to fully answer the question)."
   ]
  },
  {
   "cell_type": "code",
   "execution_count": 7,
   "metadata": {},
   "outputs": [
    {
     "data": {
      "text/html": [
       "<div>\n",
       "<style scoped>\n",
       "    .dataframe tbody tr th:only-of-type {\n",
       "        vertical-align: middle;\n",
       "    }\n",
       "\n",
       "    .dataframe tbody tr th {\n",
       "        vertical-align: top;\n",
       "    }\n",
       "\n",
       "    .dataframe thead th {\n",
       "        text-align: right;\n",
       "    }\n",
       "</style>\n",
       "<table border=\"1\" class=\"dataframe\">\n",
       "  <thead>\n",
       "    <tr style=\"text-align: right;\">\n",
       "      <th></th>\n",
       "      <th>Time</th>\n",
       "    </tr>\n",
       "    <tr>\n",
       "      <th>Login Id</th>\n",
       "      <th></th>\n",
       "    </tr>\n",
       "  </thead>\n",
       "  <tbody>\n",
       "    <tr>\n",
       "      <th>466</th>\n",
       "      <td>38</td>\n",
       "    </tr>\n",
       "    <tr>\n",
       "      <th>458</th>\n",
       "      <td>52</td>\n",
       "    </tr>\n",
       "    <tr>\n",
       "      <th>592</th>\n",
       "      <td>38</td>\n",
       "    </tr>\n",
       "    <tr>\n",
       "      <th>393</th>\n",
       "      <td>12</td>\n",
       "    </tr>\n",
       "    <tr>\n",
       "      <th>636</th>\n",
       "      <td>0</td>\n",
       "    </tr>\n",
       "    <tr>\n",
       "      <th>...</th>\n",
       "      <td>...</td>\n",
       "    </tr>\n",
       "    <tr>\n",
       "      <th>1302</th>\n",
       "      <td>2</td>\n",
       "    </tr>\n",
       "    <tr>\n",
       "      <th>1304</th>\n",
       "      <td>0</td>\n",
       "    </tr>\n",
       "    <tr>\n",
       "      <th>1305</th>\n",
       "      <td>1</td>\n",
       "    </tr>\n",
       "    <tr>\n",
       "      <th>1306</th>\n",
       "      <td>1</td>\n",
       "    </tr>\n",
       "    <tr>\n",
       "      <th>1307</th>\n",
       "      <td>0</td>\n",
       "    </tr>\n",
       "  </tbody>\n",
       "</table>\n",
       "<p>433 rows × 1 columns</p>\n",
       "</div>"
      ],
      "text/plain": [
       "          Time\n",
       "Login Id      \n",
       "466         38\n",
       "458         52\n",
       "592         38\n",
       "393         12\n",
       "636          0\n",
       "...        ...\n",
       "1302         2\n",
       "1304         0\n",
       "1305         1\n",
       "1306         1\n",
       "1307         0\n",
       "\n",
       "[433 rows x 1 columns]"
      ]
     },
     "execution_count": 7,
     "metadata": {},
     "output_type": "execute_result"
    }
   ],
   "source": [
    "fp = Path('data') / 'login_table.csv'\n",
    "login = pd.read_csv(fp)\n",
    "\n",
    "login_copy = login.copy()\n",
    "login_copy['Time'] = pd.to_datetime(login_copy['Time'])\n",
    "result = login_copy[(login_copy['Time'].dt.hour >= 16) & (login_copy['Time'].dt.hour < 20)].groupby('Login Id').count()\n",
    "all_users = login['Login Id'].unique()\n",
    "result = result.reindex(all_users, fill_value=0)\n",
    "result"
   ]
  },
  {
   "cell_type": "code",
   "execution_count": 8,
   "metadata": {},
   "outputs": [
    {
     "data": {
      "text/plain": [
       "433"
      ]
     },
     "execution_count": 8,
     "metadata": {},
     "output_type": "execute_result"
    }
   ],
   "source": [
    "login['Login Id'].nunique()"
   ]
  },
  {
   "cell_type": "code",
   "execution_count": 9,
   "metadata": {},
   "outputs": [],
   "source": [
    "# don't change this cell -- it is needed for the tests to work\n",
    "fp = Path('data') / 'login_table.csv'\n",
    "login = pd.read_csv(fp)\n",
    "q1_result = prime_time_logins(login)"
   ]
  },
  {
   "cell_type": "code",
   "execution_count": 10,
   "metadata": {
    "deletable": false,
    "editable": false
   },
   "outputs": [
    {
     "data": {
      "text/html": [
       "<p><strong><pre style='display: inline;'>q1</pre></strong> passed!</p>"
      ],
      "text/plain": [
       "q1 results: All test cases passed!"
      ]
     },
     "execution_count": 10,
     "metadata": {},
     "output_type": "execute_result"
    }
   ],
   "source": [
    "grader.check(\"q1\")"
   ]
  },
  {
   "cell_type": "markdown",
   "metadata": {},
   "source": [
    "### Question 2 – Return Users 🔁\n",
    "\n",
    "As a site owner, you would like to find your most enthusiastic users – the ones who return to your site most frequently. You've noticed that there are users who have several logins and users who logged in only once. You are interested in finding the number of logins *per day* for each user – that is, **their total number of logins divided by the total number of days they've been on your site**.\n",
    "\n",
    "Complete the implementation of the function `count_frequency`, which takes in a DataFrame like `login` and outputs a Series containing the number of logins per day for each user. Your Series should have `'Login Id'`s in its index, and the frequencies as its values. The order of users in the index is arbitrary.\n",
    "\n",
    "To do this, you should assume today is January 31st, 2024 and use 11:59:00PM as the current time. The first login date of a user is the first day of their membership on the site, and you may assume they are still a member today. For simplicity, you only need to count full days that a user has been a member till the end of today. For example, if a user's first login was 12 days and 5 hours ago, you can say that they have been a user for 12 days. \n",
    "\n",
    "***Hint***: Can you write a custom aggregator that allows you to do this with just one call of the `groupby` method?"
   ]
  },
  {
   "cell_type": "code",
   "execution_count": 11,
   "metadata": {},
   "outputs": [
    {
     "data": {
      "text/plain": [
       "Login Id\n",
       "381     0.062315\n",
       "393     0.092896\n",
       "412     0.276596\n",
       "413     0.608219\n",
       "419     0.018405\n",
       "          ...   \n",
       "1302    0.307692\n",
       "1304    0.181818\n",
       "1305    0.125000\n",
       "1306    0.285714\n",
       "1307    0.666667\n",
       "Name: Time, Length: 433, dtype: float64"
      ]
     },
     "execution_count": 11,
     "metadata": {},
     "output_type": "execute_result"
    }
   ],
   "source": [
    "# my agg function would just have to take the number of logins (probably from the first function) and \n",
    "# divide by subtracting the current date by the first login date \n",
    "login_copy = login.copy()\n",
    "login_copy['Time'] = pd.to_datetime(login_copy['Time'])\n",
    "\n",
    "# number of days they have been a member\n",
    "today = pd.Timestamp('2024-01-31 23:59:00')\n",
    "today - login_copy['Time'] \n",
    "\n",
    "# number of times they have logged in \n",
    "login_copy.groupby('Login Id').count().sort_index()\n",
    "\n",
    "login_copy.groupby('Login Id').agg(lambda x: (today - x.min()).days).sort_index()\n",
    "\n",
    "login_copy.groupby('Login Id').count().sort_index()['Time'] / login_copy.groupby('Login Id').agg(lambda x: (today - x.min()).days).sort_index()['Time']"
   ]
  },
  {
   "cell_type": "code",
   "execution_count": 12,
   "metadata": {
    "scrolled": true
   },
   "outputs": [],
   "source": [
    "# don't change this cell -- it is needed for the tests to work\n",
    "fp = Path('data') / 'login_table.csv'\n",
    "login = pd.read_csv(fp)\n",
    "q2_result = count_frequency(login)"
   ]
  },
  {
   "cell_type": "code",
   "execution_count": 13,
   "metadata": {
    "deletable": false,
    "editable": false
   },
   "outputs": [
    {
     "data": {
      "text/html": [
       "<p><strong><pre style='display: inline;'>q2</pre></strong> passed!</p>"
      ],
      "text/plain": [
       "q2 results: All test cases passed!"
      ]
     },
     "execution_count": 13,
     "metadata": {},
     "output_type": "execute_result"
    }
   ],
   "source": [
    "grader.check(\"q2\")"
   ]
  },
  {
   "cell_type": "markdown",
   "metadata": {},
   "source": [
    "<div class=\"alert alert-block alert-danger\" markdown=\"1\">\n",
    "\n",
    "**You cannot use `for`-loops in Part 1 (Time Series Data) or Part 2 (Hypothesis Testing), but you can use them in Part 3 (Permutation Testing).**\n",
    "\n",
    "</div>\n",
    "\n",
    "## Part 2: Hypothesis Testing\n",
    "\n",
    "In this section, you'll recall the terms and structure of hypothesis testing from DSC 10.\n",
    "\n",
    "The first step is always to define what you're looking at, create your hypotheses, and set a level of significance (i.e. a p-value cutoff). Once you've done that, you can find a p-value.\n",
    "\n",
    "If all of these words are foreign, look at the [Lecture 6](https://dsc80.com/resources/lectures/lec06/lec06.html) notebook and the readings, and don't forget to think about the real-world meaning of these terms!  The following example describes a real-world scenario, which should help keep it easy to interpret."
   ]
  },
  {
   "cell_type": "markdown",
   "metadata": {},
   "source": [
    "### Question 3 – Baking Sale 🧁\n",
    "\n",
    "At UC San Diego, students are looking to buy treats at a bake sale on Library Walk. There is a pop-up bake stand selling cookies and cupcakes to students. Last Saturday, this stand sold 250 cookies to UCSD students. After eating the cookies, 15 students complained that their cookies were burnt, leaving a bitter taste in their mouths. In response to the student dissatisfaction, the stand claims that 96% of their cookies are baked perfectly without any burning. You think this seems unlikely and decide to investigate.\n",
    "\n",
    "First, select a significance level for your investigation. You don't need to turn this in anywhere. Then, complete the implementation of the following two functions.\n",
    "\n",
    "#### `cookies_null_hypothesis`\n",
    "\n",
    "Complete the implementation of the function `cookies_null_hypothesis`, takes in no arguments and returns your answer(s) to the following question **as a list**.\n",
    "\n",
    "What are reasonable choices for the **null hypothesis** for your investigation? Select all that apply.\n",
    "1. The stand sells cookies that are approximately 4% burnt. \n",
    "2. The stand sells cookies that are 96% perfectly baked.\n",
    "3. The stand sells cookies that are less than 96% perfectly baked. \n",
    "4. The stand sells cookies that are at least 4% burnt.\n",
    "\n",
    "<br>\n",
    "\n",
    "#### `cookies_p_value`\n",
    "\n",
    "Complete the implementation of the function `cookies_p_value`, which takes in an integer `N` and returns the estimated p-value of your investigation upon simulating the null hypothesis `N` times. (The p-value is an estimate of the true theoretical p-value of your test since it relies on simulation.)\n",
    "\n",
    "***Note***: Plot the null distribution and your observed statistic to check your work. (If you decide to plot, you may have to run `import matplotlib.pyplot as plt` or `import plotly.express as px`.)"
   ]
  },
  {
   "cell_type": "code",
   "execution_count": 14,
   "metadata": {},
   "outputs": [],
   "source": [
    "# The null hypothesis should be a well-defined probability model that reflects the baseline you want to compare against. 1, 2\n",
    "\n",
    "# The alternative hypothesis should be the \"alternate reality\" that you suspect may be true.\n",
    "# alternative: more than 4% (15 cookies) are burnt"
   ]
  },
  {
   "cell_type": "code",
   "execution_count": 15,
   "metadata": {},
   "outputs": [
    {
     "data": {
      "text/plain": [
       "0.072"
      ]
     },
     "execution_count": 15,
     "metadata": {},
     "output_type": "execute_result"
    }
   ],
   "source": [
    "cookies_p_value(1000)\n",
    "# >0.05 so we fail to reject the null "
   ]
  },
  {
   "cell_type": "code",
   "execution_count": 16,
   "metadata": {
    "deletable": false,
    "editable": false
   },
   "outputs": [
    {
     "data": {
      "text/html": [
       "<p><strong><pre style='display: inline;'>q3</pre></strong> passed!</p>"
      ],
      "text/plain": [
       "q3 results: All test cases passed!"
      ]
     },
     "execution_count": 16,
     "metadata": {},
     "output_type": "execute_result"
    }
   ],
   "source": [
    "grader.check(\"q3\")"
   ]
  },
  {
   "cell_type": "markdown",
   "metadata": {},
   "source": [
    "Now that we've gotten our feet wet with hypothesis testing, let's take a closer look at how to choose null and alternative hypotheses and test statistics."
   ]
  },
  {
   "cell_type": "markdown",
   "metadata": {},
   "source": [
    "### Question 4 – Tires 🚗\n",
    "\n",
    "A tire manufacturer, TritonTire, claims that their tires are so good, they will bring a Toyota Highlander from 60 MPH to a complete stop in under 106 feet, 95% percent of the time.\n",
    "\n",
    "Now, you own a Toyota Highlander equipped with TritonTire tires, and you decide to test this claim. You take your car to an empty Vons parking lot, speed up to exactly 60 MPH, hit the brakes, and measure the stopping distance. As illegal as it is, you repeat this process 50 times and find that **you stopped in under 106 feet only 47 of the 50 times**.\n",
    "\n",
    "Livid, you call TritonTire and say that their claim is false. They say, no, that you were just unlucky: your experiment is consistent with their claim. But they didn't realize that they are dealing with a *data scientist* 🧑‍🔬.\n",
    "\n",
    "To settle the matter, you decide to unleash the power of the hypothesis test. The following three subparts ask you to answer a total of four select-all multiple choice questions.\n",
    "\n",
    "#### Question 4.1: `car_null_hypothesis` and `car_alt_hypothesis`\n",
    "\n",
    "You will set up a hypothesis test in order to test your suspicion that the tires are are actually worse than claimed. Which of the following are valid null and alternative hypotheses for this hypothesis test?\n",
    "\n",
    "1. The tires will stop your car in under 106 feet exactly 95% of the time.\n",
    "0. The tires will stop your car in under 106 feet less than 95% of the time.\n",
    "0. The tires will stop your car in under 106 feet greater than 95% of the time.\n",
    "0. The tires will stop your car in more than 106 feet exactly 5% of the time.\n",
    "0. The tires will stop your car in more than 106 feet less than 5% of the time.\n",
    "0. The tires will stop your car in more than 106 feet greater than 5% of the time.\n",
    "\n",
    "Complete the implementation of the function `car_null_hypothesis`, which takes zero arguments and returns a list of integers, corresponding to the the valid null hypotheses above.\n",
    "Also complete the implementation of the function called `car_alt_hypothesis`, which takes zero arguments and returns a list of integers, corresponding to the valid alternative hypotheses above given your observation.\n",
    "\n",
    "<br>\n",
    "\n",
    "#### Question 4.2: `car_test_statistic`\n",
    "\n",
    "Which of the following are valid test statistics for our question?\n",
    "\n",
    "1. The number of times the car stopped in under 106 feet in 50 attempts.\n",
    "1. The average number of feet the car took to come to a complete stop in 50 attempts.\n",
    "1. The number of attempts it took before the car stopped in under 95 feet.\n",
    "1. The proportion of attempts in which the car stopped in under 106 feet in 50 attempts.\n",
    "\n",
    "Complete the implementation of the function `car_test_stat`, which takes zero arguments and returns a list of integers, corresponding to the valid test statistics above.\n",
    "\n",
    "<br>\n",
    "\n",
    "#### Question 4.3: `car_p_value`\n",
    "\n",
    "The p-value is the probability, under the assumption the null hypothesis is true, of observing a test statistic **equal to our observed statistic, or more extreme in the direction of the alternative hypothesis**.\n",
    "\n",
    "Why don't we just look at the probability of observing a test statistic equal to our observed statistic? That is, why is the \"more extreme in the direction of the alternative hypothesis\" part necessary?\n",
    "\n",
    "1. Because our observed test statistic isn't extreme.\n",
    "2. Because our null hypothesis isn't suggesting equality.\n",
    "3. Because the probability of finding our observed test statistic equals the probability of finding something more extreme.\n",
    "4. Because if we run more and more trials, the probability of observing any particular test statistic gets closer and closer to zero.\n",
    "\n",
    "Complete the implementation of the function `car_p_value`, which takes zero arguments and returns the correct reason as an **integer** (not a list)."
   ]
  },
  {
   "cell_type": "code",
   "execution_count": 17,
   "metadata": {},
   "outputs": [],
   "source": [
    "# alternative: more than 5% of the time it does not come to a complete stop in under 106 ft\n",
    "# null: 95% of the time, it comes to a complete stop in under 106 ft\n",
    "\n",
    "# 1. The tires will stop your car in under 106 feet exactly 95% of the time. N\n",
    "# 2. The tires will stop your car in under 106 feet less than 95% of the time. A\n",
    "# 3. The tires will stop your car in under 106 feet greater than 95% of the time. \n",
    "# 4. The tires will stop your car in more than 106 feet exactly 5% of the time. N\n",
    "# 5. The tires will stop your car in more than 106 feet less than 5% of the time. \n",
    "# 6. The tires will stop your car in more than 106 feet greater than 5% of the time. A"
   ]
  },
  {
   "cell_type": "code",
   "execution_count": 18,
   "metadata": {},
   "outputs": [],
   "source": [
    "# 1. The number of times the car stopped in under 106 feet in 50 attempts. Y\n",
    "# 2. The average number of feet the car took to come to a complete stop in 50 attempts. N\n",
    "# 3. The number of attempts it took before the car stopped in under 95 feet. N\n",
    "# 4. The proportion of attempts in which the car stopped in under 106 feet in 50 attempts. Y"
   ]
  },
  {
   "cell_type": "code",
   "execution_count": 19,
   "metadata": {},
   "outputs": [],
   "source": [
    "# 1. Because our observed test statistic isn't extreme. N\n",
    "# 2. Because our null hypothesis isn't suggesting equality. N\n",
    "# 3. Because the probability of finding our observed test statistic equals the probability of finding something more extreme. N\n",
    "# 4. Because if we run more and more trials, the probability of observing any particular test statistic gets closer and closer to zero. Y"
   ]
  },
  {
   "cell_type": "code",
   "execution_count": 20,
   "metadata": {
    "deletable": false,
    "editable": false
   },
   "outputs": [
    {
     "data": {
      "text/html": [
       "<p><strong><pre style='display: inline;'>q4</pre></strong> passed!</p>"
      ],
      "text/plain": [
       "q4 results: All test cases passed!"
      ]
     },
     "execution_count": 20,
     "metadata": {},
     "output_type": "execute_result"
    }
   ],
   "source": [
    "grader.check(\"q4\")"
   ]
  },
  {
   "cell_type": "markdown",
   "metadata": {},
   "source": [
    "### Question 5 – Superheroes 🦸\n",
    "\n",
    "In the previous two questions, we ran hypothesis tests that didn't require us to look at stored data. In this next question, we'll return to the `heroes` DataFrame from Lab 2, which is read in from the file `data/superheroes.csv`.\n",
    "\n",
    "Our goal in this section will be to answer the question:\n",
    "\n",
    "> Are there significantly **more** \"good\" blond-haired, blue-eyed characters than the general pool of characters?\n",
    "\n",
    "To answer this question, we will conduct a hypothesis test. You choose the following null hypothesis:\n",
    "\n",
    "> The proportion of \"good\" characters among blond-haired, blue-eyed characters is equal to the proportion of \"good\" characters in the sample population from the current `heroes` DataFrame.\n",
    "\n",
    "and alternative hypothesis: \n",
    "\n",
    "> the distribution of \"good\" characters among blond-haired, blue-eyed characters is greater than the proportion of \"good\" characters in the overall population.\n",
    "\n",
    "To proceed with the hypothesis test, we will need to determine the test statistics for our test.\n",
    "\n",
    "#### `superheroes_test_statistic`\n",
    "\n",
    "Which of the following are valid test statistics for our question?\n",
    "\n",
    "1. The difference in proportions for \"good\" characters among blond-haired, blue-eyed characters and \"good\" characters in the overall population. \n",
    "1. The number of \"good\" characters that are blond-haired, blue-eyed.\n",
    "1. The proportion of blond-haired, blue-eyed characters among all \"good\" characters.\n",
    "1. The absolute difference in proportions for \"good\" characters among blond-haired, blue-eyed characters and \"good\" characters in the overall population.\n",
    "\n",
    "Complete the implementation of the function `superheros_test_stat`, which takes zero arguments and returns a list of integers, corresponding to all the valid test statistics above.\n",
    "\n",
    "---\n",
    "\n",
    "Regardless of your choice for the above question, we will use the test statistic stated below to complete the implementations of the following functions:\n",
    "\n",
    "> The proportion of \"good\" characters among blond-haired, blue-eyed characters.\n",
    "\n",
    "#### `bhbe_col`\n",
    "\n",
    "To start, complete the implementation of the function `bhbe_col`, which takes in a DataFrame like `heroes` and returns a Boolean Series that contains `True` for characters that have **both** blond hair and blue eyes, and `False` for all other characters. \n",
    "\n",
    "***Note***: If a character's hair color contains the word `'blond'`, uppercase or lowercase, we consider their hair to be blond for the purposes of this question. Similarly, if a character's eye color contains the word `'blue'`, uppercase or lowercase, we consider their eye color to be blue for the purposes of this question.\n",
    "\n",
    "Fix a significance level (i.e. p-value cutoff) of 1%.\n",
    "\n",
    "<br>\n",
    "\n",
    "#### `superheroes_observed_statistic`\n",
    "Complete the implementation of the function `superheroes_observed_statistic`, which takes in a DataFrame like `heroes` and returns the observed test statistic.\n",
    "\n",
    "<br>\n",
    "\n",
    "#### `simulate_bhbe_null` \n",
    "Complete the implementation of the function `simulate_bhbe_null`, which takes in a DataFrame like `heroes` and a positive integer `N` and returns an array of length `N`, where each element is a simulated test statistic according to the null hypothesis.\n",
    "\n",
    "***Hint***: Like in `superheroes_observed_statistic`, you'll need to use both `bhbe_col` and information in the `heroes` DataFrame to complete your simulation. Remember that you cannot use `for`-loops in this question.\n",
    "\n",
    "<br>\n",
    "\n",
    "#### `superheroes_p_value` \n",
    "Complete the implementation of the function `superheroes_p_value`, which takes in DataFrame like `heroes` and returns a list where:\n",
    "* The first element is the p-value for the hypothesis test, using 100,000 simulations.\n",
    "* The second element is `'Reject'` if you reject the null hypothesis and `'Fail to reject'` if you fail to reject the null hypothesis, at the 1% significance level."
   ]
  },
  {
   "cell_type": "code",
   "execution_count": 146,
   "metadata": {},
   "outputs": [],
   "source": [
    "# Null: The proportion of \"good\" characters among blond-haired, blue-eyed characters is equal to the proportion of \"good\" characters \n",
    "# in the sample population from the current `heroes` DataFrame.\n",
    "\n",
    "# Alternative: the distribution of \"good\" characters among blond-haired, blue-eyed characters is greater than the proportion of \"good\" \n",
    "# characters in the overall population.\n",
    "\n",
    "# 1. The difference in proportions for \"good\" characters among blond-haired, blue-eyed characters and \"good\" characters in the overall population. Y\n",
    "# 2. The number of \"good\" characters that are blond-haired, blue-eyed. Y\n",
    "# ^ will work becuase we can get the same conclusion from our distribution. we are only counting the number of \"good\" characters from the already queried blond-hair, blue-eyed df\n",
    "# 3. The proportion of blond-haired, blue-eyed characters among all \"good\" characters. N\n",
    "# 4. The absolute difference in proportions for \"good\" characters among blond-haired, blue-eyed characters and \"good\" characters in the overall population. N\n",
    "#  ^ will not work because the direction is not considered anymore"
   ]
  },
  {
   "cell_type": "code",
   "execution_count": 22,
   "metadata": {},
   "outputs": [
    {
     "data": {
      "text/plain": [
       "0      False\n",
       "1      False\n",
       "2      False\n",
       "3      False\n",
       "4      False\n",
       "       ...  \n",
       "729     True\n",
       "730    False\n",
       "731    False\n",
       "732    False\n",
       "733    False\n",
       "Length: 734, dtype: bool"
      ]
     },
     "execution_count": 22,
     "metadata": {},
     "output_type": "execute_result"
    }
   ],
   "source": [
    "superheroes_fp = Path('data') / 'superheroes.csv'\n",
    "heroes = pd.read_csv(superheroes_fp, index_col=0)\n",
    "\n",
    "hero = heroes.copy()\n",
    "hero[(hero['Eye color'].str.lower().str.contains('blue')) & (hero['Hair color'].str.lower().str.contains('blond'))]\n",
    "\n",
    "blue_eyes = hero['Eye color'].str.lower().str.contains('blue')\n",
    "blond_hair = hero['Hair color'].str.lower().str.contains('blond')\n",
    "\n",
    "blue_eyes & blond_hair"
   ]
  },
  {
   "cell_type": "code",
   "execution_count": 23,
   "metadata": {},
   "outputs": [
    {
     "data": {
      "text/plain": [
       "0.8494623655913979"
      ]
     },
     "execution_count": 23,
     "metadata": {},
     "output_type": "execute_result"
    }
   ],
   "source": [
    "# The proportion of \"good\" characters among blond-haired, blue-eyed characters.\n",
    "\n",
    "filtered_bb = hero[blue_eyes & blond_hair]\n",
    "filtered_bb_good = filtered_bb[filtered_bb['Alignment'].str.lower() == 'good']\n",
    "obsv_prop = filtered_bb_good.shape[0] / filtered_bb.shape[0]\n",
    "obsv_prop"
   ]
  },
  {
   "cell_type": "code",
   "execution_count": 50,
   "metadata": {},
   "outputs": [
    {
     "data": {
      "text/plain": [
       "0.8494623655913979"
      ]
     },
     "execution_count": 50,
     "metadata": {},
     "output_type": "execute_result"
    }
   ],
   "source": [
    "filtered_bb = heroes[bhbe_col(heroes)]\n",
    "filtered_bb_good = filtered_bb[filtered_bb['Alignment'].str.lower() == 'good']\n",
    "obsv_prop = filtered_bb_good.shape[0] / filtered_bb.shape[0]\n",
    "obsv_prop"
   ]
  },
  {
   "cell_type": "code",
   "execution_count": 52,
   "metadata": {},
   "outputs": [
    {
     "data": {
      "text/plain": [
       "100"
      ]
     },
     "execution_count": 52,
     "metadata": {},
     "output_type": "execute_result"
    }
   ],
   "source": [
    "N = 100\n",
    "total_good_prop = (heroes['Alignment'].str.lower() == 'good').sum() / heroes.shape[0]\n",
    "simulations = np.random.choice([1,0], size=(N, bhbe_col(heroes).sum()), p=[obsv_prop, 1-obsv_prop]) # NOTE: would this be obsv_prop or total_good_prop???\n",
    "simulated_props = simulations.mean(axis=1)\n",
    "simulated_props"
   ]
  },
  {
   "cell_type": "code",
   "execution_count": 76,
   "metadata": {},
   "outputs": [
    {
     "data": {
      "text/plain": [
       "[np.float64(0.0001), 'Reject']"
      ]
     },
     "execution_count": 76,
     "metadata": {},
     "output_type": "execute_result"
    }
   ],
   "source": [
    "N = 100000\n",
    "test_stats = simulate_bhbe_null(heroes, N)\n",
    "p_val = np.mean(test_stats >= obsv_prop) # < 0.01 -> reject\n",
    "output = [p_val]\n",
    "if p_val > 0.01:\n",
    "    output.append('Fail to reject')\n",
    "else:\n",
    "    output.append('Reject')\n",
    "output"
   ]
  },
  {
   "cell_type": "code",
   "execution_count": 81,
   "metadata": {},
   "outputs": [],
   "source": [
    "# don't change this cell -- it is needed for the tests to work\n",
    "superheroes_fp = Path('data') / 'superheroes.csv'\n",
    "heroes = pd.read_csv(superheroes_fp, index_col=0)\n",
    "bhbe_out = bhbe_col(heroes)\n",
    "obs_stat_out = superheroes_observed_statistic(heroes)\n",
    "simulate_bhbe_out = simulate_bhbe_null(heroes, 10)\n",
    "pval_out = superheroes_p_value(heroes)"
   ]
  },
  {
   "cell_type": "code",
   "execution_count": 82,
   "metadata": {},
   "outputs": [
    {
     "data": {
      "text/plain": [
       "[0.00017, 'Reject']"
      ]
     },
     "execution_count": 82,
     "metadata": {},
     "output_type": "execute_result"
    }
   ],
   "source": [
    "pval_out"
   ]
  },
  {
   "cell_type": "code",
   "execution_count": 83,
   "metadata": {
    "deletable": false,
    "editable": false
   },
   "outputs": [
    {
     "data": {
      "text/html": [
       "<p><strong><pre style='display: inline;'>q5</pre></strong> passed!</p>"
      ],
      "text/plain": [
       "q5 results: All test cases passed!"
      ]
     },
     "execution_count": 83,
     "metadata": {},
     "output_type": "execute_result"
    }
   ],
   "source": [
    "grader.check(\"q5\")"
   ]
  },
  {
   "cell_type": "markdown",
   "metadata": {},
   "source": [
    "<div class=\"alert alert-block alert-danger\" markdown=\"1\">\n",
    "\n",
    "**You cannot use `for`-loops in Part 1 (Time Series Data) or Part 2 (Hypothesis Testing), but you can use them in Part 3 (Permutation Testing).**\n",
    "\n",
    "</div>\n",
    "\n",
    "## Part 3: Permutation Testing\n",
    "\n",
    "Recall, hypothesis tests answer questions of the form:\n",
    "\n",
    "> I have a population distribution, and I have one sample. Does this sample look like it was drawn from the population?\n",
    "\n",
    "While permutation tests answer questions of the form:\n",
    "\n",
    "> I have two samples, but no information about any population distributions. Do these samples look like they were drawn from the same population?\n",
    "\n",
    "Keep this in mind while working on this last part of the lab.\n",
    "\n",
    "<br>\n",
    "\n",
    "[Skittles](https://en.wikipedia.org/wiki/Skittles_(confectionery)) 🍬 are made in two locations in the United States: Yorkville, Illinois and Waco, Texas. In these factories, Skittles of different colors are made separately by different machines and combined/packaged into bags for sale. The **tab-separated file** `data/skittles.tsv` contains the contents of 468 bags of Skittles.\n",
    "\n",
    "Throughout this question, we will compare the color distribution of Skittles between bags made in the Yorkville factory and bags made in the Waco factory. Most people have preferences for their favorite flavor, and there is a surprising amount of variation among the distribution of flavors in each bag.\n",
    "\n",
    "Look at the variation by bag in the dataset below:"
   ]
  },
  {
   "cell_type": "code",
   "execution_count": 84,
   "metadata": {},
   "outputs": [
    {
     "data": {
      "text/html": [
       "<div>\n",
       "<style scoped>\n",
       "    .dataframe tbody tr th:only-of-type {\n",
       "        vertical-align: middle;\n",
       "    }\n",
       "\n",
       "    .dataframe tbody tr th {\n",
       "        vertical-align: top;\n",
       "    }\n",
       "\n",
       "    .dataframe thead th {\n",
       "        text-align: right;\n",
       "    }\n",
       "</style>\n",
       "<table border=\"1\" class=\"dataframe\">\n",
       "  <thead>\n",
       "    <tr style=\"text-align: right;\">\n",
       "      <th></th>\n",
       "      <th>red</th>\n",
       "      <th>orange</th>\n",
       "      <th>yellow</th>\n",
       "      <th>green</th>\n",
       "      <th>purple</th>\n",
       "      <th>Factory</th>\n",
       "    </tr>\n",
       "  </thead>\n",
       "  <tbody>\n",
       "    <tr>\n",
       "      <th>0</th>\n",
       "      <td>10</td>\n",
       "      <td>15</td>\n",
       "      <td>11</td>\n",
       "      <td>7</td>\n",
       "      <td>18</td>\n",
       "      <td>Yorkville</td>\n",
       "    </tr>\n",
       "    <tr>\n",
       "      <th>1</th>\n",
       "      <td>5</td>\n",
       "      <td>12</td>\n",
       "      <td>17</td>\n",
       "      <td>15</td>\n",
       "      <td>10</td>\n",
       "      <td>Yorkville</td>\n",
       "    </tr>\n",
       "    <tr>\n",
       "      <th>2</th>\n",
       "      <td>16</td>\n",
       "      <td>11</td>\n",
       "      <td>15</td>\n",
       "      <td>11</td>\n",
       "      <td>9</td>\n",
       "      <td>Waco</td>\n",
       "    </tr>\n",
       "    <tr>\n",
       "      <th>3</th>\n",
       "      <td>15</td>\n",
       "      <td>8</td>\n",
       "      <td>13</td>\n",
       "      <td>16</td>\n",
       "      <td>7</td>\n",
       "      <td>Waco</td>\n",
       "    </tr>\n",
       "    <tr>\n",
       "      <th>4</th>\n",
       "      <td>11</td>\n",
       "      <td>14</td>\n",
       "      <td>20</td>\n",
       "      <td>8</td>\n",
       "      <td>7</td>\n",
       "      <td>Waco</td>\n",
       "    </tr>\n",
       "  </tbody>\n",
       "</table>\n",
       "</div>"
      ],
      "text/plain": [
       "   red  orange  yellow  green  purple    Factory\n",
       "0   10      15      11      7      18  Yorkville\n",
       "1    5      12      17     15      10  Yorkville\n",
       "2   16      11      15     11       9       Waco\n",
       "3   15       8      13     16       7       Waco\n",
       "4   11      14      20      8       7       Waco"
      ]
     },
     "execution_count": 84,
     "metadata": {},
     "output_type": "execute_result"
    }
   ],
   "source": [
    "skittles_fp = Path('data') / 'skittles.tsv'\n",
    "skittles = pd.read_csv(skittles_fp, sep='\\t')\n",
    "skittles.head()"
   ]
  },
  {
   "cell_type": "code",
   "execution_count": 85,
   "metadata": {},
   "outputs": [
    {
     "data": {
      "text/plain": [
       "(468, 6)"
      ]
     },
     "execution_count": 85,
     "metadata": {},
     "output_type": "execute_result"
    }
   ],
   "source": [
    "skittles.shape"
   ]
  },
  {
   "cell_type": "markdown",
   "metadata": {},
   "source": [
    "### Question 6 – Orange Skittles 🟠\n",
    "\n",
    "First, you will investigate if the machine that mixes together the Skittles of different colors might favor one color over another. Use a permutation test to assess whether, on average, bags made in Yorkville have the same number of orange skittles as bags made in Waco. Do this by implementing the functions described below.\n",
    "\n",
    "<br>\n",
    "\n",
    "#### `diff_of_means`\n",
    "\n",
    "Complete the implementation of the function `diff_of_means`, which takes in a DataFrame like `skittles` and returns the **absolute difference** between the **mean** number of orange Skittles per bag from Yorkville and the **mean** number of orange Skittles per bag from Waco.\n",
    "\n",
    "<br>\n",
    "\n",
    "#### `simulate_null`\n",
    "\n",
    "Complete the implementation of the function `simulate_null`, which takes in a DataFrame like `skittles` and returns one simulated instance of the test statistic under the null hypothesis. Note that this will involve shuffling the `'Factory'` column!\n",
    "\n",
    "<br>\n",
    "\n",
    "#### `color_p_value`\n",
    "\n",
    "Complete the implementation of the function `color_p_value`, which takes in a DataFrame like `skittles` and calculates the p-value for the permutation test using 1000 trials.\n",
    "\n",
    "<br>\n",
    "\n",
    "Plot the observed statistic, along with the histogram for the simulated distribution, to check your work.\n",
    "\n",
    "***Note***: In all functions, the default argument for `col` is `'orange'`. Your functions should still work for any color so that you can call it in later questions."
   ]
  },
  {
   "cell_type": "code",
   "execution_count": 193,
   "metadata": {},
   "outputs": [],
   "source": [
    "grouped_factory = skittles.groupby('Factory')['orange'].mean()\n",
    "abs_diff = np.abs(grouped_factory.loc['Waco'] - grouped_factory.loc['Yorkville'])"
   ]
  },
  {
   "cell_type": "code",
   "execution_count": 108,
   "metadata": {},
   "outputs": [
    {
     "data": {
      "text/plain": [
       "0.20586510263929725"
      ]
     },
     "execution_count": 108,
     "metadata": {},
     "output_type": "execute_result"
    }
   ],
   "source": [
    "# test statistic is the abs diff of means\n",
    "skittle = skittles.copy()\n",
    "with_shuffled = skittle.assign(Shuffled_Factory=np.random.permutation(skittle['Factory']))\n",
    "one_instance_grouped = with_shuffled.groupby('Shuffled_Factory')['orange'].mean()\n",
    "one_instance_test_stat = np.abs(one_instance_grouped.loc['Waco'] - one_instance_grouped.loc['Yorkville'])\n",
    "float(one_instance_test_stat)"
   ]
  },
  {
   "cell_type": "code",
   "execution_count": 115,
   "metadata": {},
   "outputs": [
    {
     "data": {
      "text/plain": [
       "np.float64(0.042)"
      ]
     },
     "execution_count": 115,
     "metadata": {},
     "output_type": "execute_result"
    }
   ],
   "source": [
    "color_p_value(skittles)"
   ]
  },
  {
   "cell_type": "code",
   "execution_count": 128,
   "metadata": {},
   "outputs": [
    {
     "name": "stdout",
     "output_type": "stream",
     "text": [
      "p-val: 0.046\n"
     ]
    },
    {
     "data": {
      "application/vnd.plotly.v1+json": {
       "config": {
        "plotlyServerURL": "https://plot.ly"
       },
       "data": [
        {
         "alignmentgroup": "True",
         "bingroup": "x",
         "histnorm": "probability",
         "hovertemplate": "0=%{x}<br>probability=%{y}<extra></extra>",
         "legendgroup": "",
         "marker": {
          "color": "#636efa",
          "pattern": {
           "shape": ""
          }
         },
         "name": "",
         "nbinsx": 50,
         "offsetgroup": "",
         "orientation": "v",
         "showlegend": false,
         "type": "histogram",
         "x": [
          0.3087976539589441,
          0.23159824046920896,
          0.12008797653959036,
          0.24017595307917894,
          0.30021994134897234,
          0.385997067448681,
          0.017155425219941733,
          0.051466275659823424,
          0.18870967741935374,
          0.16297653958944203,
          0.14582111436950207,
          0.16297653958944203,
          0.35168621700879754,
          0.20586510263929725,
          0.13724340175953031,
          0.6004398826979482,
          0.18013196480938376,
          0.24017595307917894,
          0.29164222873900236,
          0.08577712609970689,
          0.22302052785923898,
          0.051466275659823424,
          0.017155425219941733,
          0.008577712609969979,
          0.21444281524926723,
          0.06862170087976693,
          0.06862170087976693,
          0.2830645161290324,
          0.29164222873900236,
          0.12866568914956034,
          0.06862170087976693,
          0.27448680351906063,
          0.557551319648093,
          0.06862170087976693,
          0.5060850439882696,
          0.15439882697947205,
          0.03431085043988169,
          0.051466275659823424,
          0.22302052785923898,
          0.25733137829912067,
          0.17155425219941378,
          0,
          0.09435483870967865,
          0.03431085043988169,
          0.017155425219941733,
          0.35168621700879754,
          0.20586510263929725,
          0.09435483870967865,
          0.48892961876832963,
          0.61759530791789,
          0.3087976539589441,
          0.03431085043988169,
          0.29164222873900236,
          0.4717741935483879,
          0.27448680351906063,
          0.4975073313782996,
          0.5146627565982413,
          0.26590909090909065,
          0.30021994134897234,
          0.4117302052785927,
          0.09435483870967865,
          0.017155425219941733,
          0.12866568914956034,
          0.29164222873900236,
          0.34310850439882756,
          0.12866568914956034,
          0.025733137829911712,
          0.13724340175953031,
          0.14582111436950207,
          0.16297653958944203,
          0.5232404692082113,
          0.14582111436950207,
          0.24875366568914892,
          0.21444281524926723,
          0.5060850439882696,
          0.1972873900293255,
          0.18870967741935374,
          0.4203079178885627,
          0.4975073313782996,
          0.1972873900293255,
          0.15439882697947205,
          0.1115102639296186,
          0.32595307917888405,
          0.15439882697947205,
          0.46319648093841614,
          0.06862170087976693,
          0.27448680351906063,
          0.5403958944281531,
          0.7548387096774203,
          0.21444281524926723,
          0.26590909090909065,
          0.03431085043988169,
          0.017155425219941733,
          0.008577712609969979,
          0.03431085043988169,
          0.025733137829911712,
          0.12866568914956034,
          0.13724340175953031,
          0.21444281524926723,
          0.24875366568914892,
          0.1972873900293255,
          0.15439882697947205,
          0.2830645161290324,
          0,
          0.14582111436950207,
          0.10293255131964862,
          0.13724340175953031,
          0.21444281524926723,
          0.1115102639296186,
          0.10293255131964862,
          0.46319648093841614,
          0.35168621700879754,
          0.4803519061583579,
          0.12008797653959036,
          0.07719941348973691,
          0.008577712609969979,
          0.16297653958944203,
          0.3087976539589441,
          0.042888563049853445,
          0.09435483870967865,
          0.5232404692082113,
          0.29164222873900236,
          0.03431085043988169,
          0.5146627565982413,
          0.394574780058651,
          0.4117302052785927,
          0.042888563049853445,
          0.12866568914956034,
          0.12008797653959036,
          0.25733137829912067,
          0.08577712609970689,
          0.6004398826979482,
          0.025733137829911712,
          0.6604838709677416,
          0.25733137829912067,
          0.09435483870967865,
          0.6519061583577717,
          0.23159824046920896,
          0.12866568914956034,
          0.27448680351906063,
          0.16297653958944203,
          0.06862170087976693,
          0.20586510263929725,
          0,
          0.13724340175953031,
          0.008577712609969979,
          0.051466275659823424,
          0.13724340175953031,
          0.4460410557184744,
          0.025733137829911712,
          0.025733137829911712,
          0.548973607038123,
          0.5832844574780047,
          0.62617302052786,
          0.24017595307917894,
          0.30021994134897234,
          0.18870967741935374,
          0.29164222873900236,
          0.008577712609969979,
          0.3087976539589441,
          0.5232404692082113,
          0.5232404692082113,
          0.18870967741935374,
          0.25733137829912067,
          0.017155425219941733,
          0.09435483870967865,
          0.0600439882697934,
          0.008577712609969979,
          0.25733137829912067,
          0.32595307917888405,
          0.385997067448681,
          0.2830645161290324,
          0.1115102639296186,
          0.24875366568914892,
          0.7033724340175951,
          0.21444281524926723,
          0.008577712609969979,
          0.25733137829912067,
          0.03431085043988169,
          0.18870967741935374,
          0.25733137829912067,
          0.18013196480938376,
          0.15439882697947205,
          0.18013196480938376,
          0,
          0.18870967741935374,
          0.21444281524926723,
          0.6862170087976533,
          0.61759530791789,
          0.017155425219941733,
          0.09435483870967865,
          0.07719941348973691,
          0.32595307917888405,
          0.0600439882697934,
          0.025733137829911712,
          0.20586510263929725,
          0.5060850439882696,
          0.37741935483870925,
          0.4803519061583579,
          0.43746334310850443,
          0.12866568914956034,
          0.35168621700879754,
          0.5060850439882696,
          0.30021994134897234,
          0.3087976539589441,
          0.0600439882697934,
          0.22302052785923898,
          0.051466275659823424,
          0.17155425219941378,
          0.4460410557184744,
          0.15439882697947205,
          0.13724340175953031,
          0.14582111436950207,
          0.21444281524926723,
          0.24875366568914892,
          0.40315249266862097,
          0.5060850439882696,
          0.10293255131964862,
          0.017155425219941733,
          0.06862170087976693,
          0.025733137829911712,
          0.32595307917888405,
          0.18013196480938376,
          0.35168621700879754,
          0.042888563049853445,
          0.03431085043988169,
          0.1115102639296186,
          0.3087976539589441,
          0.10293255131964862,
          0.32595307917888405,
          0.008577712609969979,
          0.37741935483870925,
          0.4546187683284444,
          0.3688416422287393,
          0.17155425219941378,
          0.042888563049853445,
          0.27448680351906063,
          0,
          0.008577712609969979,
          0.017155425219941733,
          0.06862170087976693,
          0.4803519061583579,
          0.12008797653959036,
          0.40315249266862097,
          0.03431085043988169,
          0.17155425219941378,
          0.22302052785923898,
          0.0600439882697934,
          0.06862170087976693,
          0.34310850439882756,
          0.12008797653959036,
          0.15439882697947205,
          0.03431085043988169,
          0.7119501466275651,
          0.09435483870967865,
          0.4803519061583579,
          0.025733137829911712,
          0.0600439882697934,
          0.09435483870967865,
          0.394574780058651,
          0.03431085043988169,
          0.24017595307917894,
          0.0600439882697934,
          0.18013196480938376,
          0.18870967741935374,
          0.03431085043988169,
          0.025733137829911712,
          0.16297653958944203,
          0.17155425219941378,
          0.06862170087976693,
          0.042888563049853445,
          0.008577712609969979,
          0.06862170087976693,
          0.21444281524926723,
          0.4975073313782996,
          0.3688416422287393,
          0.30021994134897234,
          0.25733137829912067,
          0.3345307917888576,
          0.21444281524926723,
          0.25733137829912067,
          0.4288856304985327,
          0.042888563049853445,
          0.4546187683284444,
          0.15439882697947205,
          0.14582111436950207,
          0.32595307917888405,
          0.22302052785923898,
          0.14582111436950207,
          0.042888563049853445,
          0.09435483870967865,
          0.0600439882697934,
          0.40315249266862097,
          0.18013196480938376,
          0.32595307917888405,
          0.18870967741935374,
          0.0600439882697934,
          0.07719941348973691,
          0.3602639296187693,
          0.22302052785923898,
          0.03431085043988169,
          0.6947947214076251,
          0.1115102639296186,
          0.24875366568914892,
          0.24017595307917894,
          0.6090175953079182,
          0.23159824046920896,
          0.042888563049853445,
          0.20586510263929725,
          0.40315249266862097,
          0.08577712609970689,
          0.0600439882697934,
          0.24875366568914892,
          0.017155425219941733,
          0.03431085043988169,
          0.385997067448681,
          0.12008797653959036,
          0.385997067448681,
          0.48892961876832963,
          0.12866568914956034,
          0.4546187683284444,
          0.3173753665689141,
          0.32595307917888405,
          0.25733137829912067,
          0.24875366568914892,
          0.557551319648093,
          0.62617302052786,
          0.06862170087976693,
          0.08577712609970689,
          0.3087976539589441,
          0.3087976539589441,
          0.3602639296187693,
          0.10293255131964862,
          0.09435483870967865,
          0.6947947214076251,
          0.4460410557184744,
          0.22302052785923898,
          0.18013196480938376,
          0.12866568914956034,
          0.25733137829912067,
          0.18013196480938376,
          0.4203079178885627,
          0.18013196480938376,
          0.25733137829912067,
          0.051466275659823424,
          0.21444281524926723,
          0.3345307917888576,
          0,
          0.21444281524926723,
          0.12008797653959036,
          0.3087976539589441,
          0.0600439882697934,
          0.10293255131964862,
          0.10293255131964862,
          0.24017595307917894,
          0.025733137829911712,
          0.30021994134897234,
          0.017155425219941733,
          0.008577712609969979,
          0.21444281524926723,
          0.017155425219941733,
          0.3602639296187693,
          0.22302052785923898,
          0.3173753665689141,
          0.14582111436950207,
          0.5146627565982413,
          0.18870967741935374,
          0.017155425219941733,
          0.1972873900293255,
          0.3173753665689141,
          0.10293255131964862,
          0.13724340175953031,
          0.008577712609969979,
          0.4203079178885627,
          0.1972873900293255,
          0.051466275659823424,
          0.4717741935483879,
          0.18013196480938376,
          0.14582111436950207,
          0.1115102639296186,
          0.26590909090909065,
          0.25733137829912067,
          0.21444281524926723,
          0.15439882697947205,
          0.24017595307917894,
          0.017155425219941733,
          0.017155425219941733,
          0.21444281524926723,
          0.5060850439882696,
          0.17155425219941378,
          0.3345307917888576,
          0.8920821114369506,
          0.08577712609970689,
          0.06862170087976693,
          0.16297653958944203,
          0.40315249266862097,
          0.24875366568914892,
          0.12866568914956034,
          0.16297653958944203,
          0.025733137829911712,
          0.10293255131964862,
          0.042888563049853445,
          0,
          0.3602639296187693,
          0.0600439882697934,
          0.17155425219941378,
          0.23159824046920896,
          0.1972873900293255,
          0.4203079178885627,
          0.15439882697947205,
          0.720527859237535,
          0.46319648093841614,
          0.29164222873900236,
          0.16297653958944203,
          0.6090175953079182,
          0.29164222873900236,
          0.1972873900293255,
          0.13724340175953031,
          0.40315249266862097,
          0.7119501466275651,
          0.26590909090909065,
          0.4460410557184744,
          0.24875366568914892,
          0.042888563049853445,
          0.09435483870967865,
          0.12866568914956034,
          0.24875366568914892,
          0.27448680351906063,
          0.09435483870967865,
          0.385997067448681,
          0.07719941348973691,
          0.22302052785923898,
          0.5232404692082113,
          0.07719941348973691,
          0.18013196480938376,
          0.6347507331378299,
          0.37741935483870925,
          0.17155425219941378,
          0.6519061583577717,
          0.008577712609969979,
          0.0600439882697934,
          0.051466275659823424,
          0.15439882697947205,
          0.06862170087976693,
          0.26590909090909065,
          0.051466275659823424,
          0.008577712609969979,
          0.06862170087976693,
          0.30021994134897234,
          0.23159824046920896,
          0.27448680351906063,
          0.4460410557184744,
          0.14582111436950207,
          0.35168621700879754,
          0.24875366568914892,
          0.008577712609969979,
          0.13724340175953031,
          0.0600439882697934,
          0.21444281524926723,
          0.4460410557184744,
          0.017155425219941733,
          0.25733137829912067,
          0.008577712609969979,
          0.30021994134897234,
          0.042888563049853445,
          0.26590909090909065,
          0.29164222873900236,
          0.32595307917888405,
          0.37741935483870925,
          0.43746334310850443,
          0.2830645161290324,
          0.10293255131964862,
          0.18013196480938376,
          0.27448680351906063,
          0.0600439882697934,
          0.26590909090909065,
          0.4460410557184744,
          0.03431085043988169,
          0.4203079178885627,
          0.35168621700879754,
          0.18870967741935374,
          0.25733137829912067,
          0,
          0.20586510263929725,
          0.1972873900293255,
          0.22302052785923898,
          0.16297653958944203,
          0.4117302052785927,
          0.16297653958944203,
          0.3345307917888576,
          0.43746334310850443,
          0.20586510263929725,
          0.5146627565982413,
          0.8234604105571837,
          0.18013196480938376,
          0.07719941348973691,
          0.16297653958944203,
          0.0600439882697934,
          0.0600439882697934,
          0.32595307917888405,
          0.15439882697947205,
          0.13724340175953031,
          0.3602639296187693,
          0.4117302052785927,
          0.37741935483870925,
          0.0600439882697934,
          0.1115102639296186,
          0.18013196480938376,
          0.10293255131964862,
          0.25733137829912067,
          0.12866568914956034,
          0.3602639296187693,
          0.12866568914956034,
          0.35168621700879754,
          0.008577712609969979,
          0.4117302052785927,
          0.40315249266862097,
          0.2830645161290324,
          0.5232404692082113,
          0.17155425219941378,
          0.12866568914956034,
          0.4717741935483879,
          0.24875366568914892,
          0.4717741935483879,
          0.26590909090909065,
          0.025733137829911712,
          0.18013196480938376,
          0.14582111436950207,
          0.385997067448681,
          0.4288856304985327,
          0.12866568914956034,
          0.5232404692082113,
          0.8320381231671554,
          0.06862170087976693,
          0.18870967741935374,
          0.3602639296187693,
          0.4117302052785927,
          0.18013196480938376,
          0.29164222873900236,
          0.16297653958944203,
          0.18870967741935374,
          0.3087976539589441,
          0.548973607038123,
          0.385997067448681,
          0.3173753665689141,
          0.0600439882697934,
          0.1115102639296186,
          0.1115102639296186,
          0.23159824046920896,
          0.08577712609970689,
          0.5232404692082113,
          0.5232404692082113,
          0.08577712609970689,
          0.4203079178885627,
          0.548973607038123,
          0.24875366568914892,
          0.24875366568914892,
          0.29164222873900236,
          0.08577712609970689,
          0,
          0.46319648093841614,
          0.12866568914956034,
          0.18870967741935374,
          0.23159824046920896,
          0.17155425219941378,
          0.18013196480938376,
          0.29164222873900236,
          0.10293255131964862,
          0.08577712609970689,
          0.385997067448681,
          0.1972873900293255,
          0.21444281524926723,
          0.24875366568914892,
          0.32595307917888405,
          0.21444281524926723,
          0.32595307917888405,
          0.042888563049853445,
          0.32595307917888405,
          0.0600439882697934,
          0.15439882697947205,
          0.720527859237535,
          0.042888563049853445,
          0.08577712609970689,
          0.008577712609969979,
          0.23159824046920896,
          0.12866568914956034,
          0.14582111436950207,
          0.7033724340175951,
          0.07719941348973691,
          0.394574780058651,
          0.10293255131964862,
          0.1972873900293255,
          0.20586510263929725,
          0.5146627565982413,
          0.03431085043988169,
          0.22302052785923898,
          0.16297653958944203,
          0.32595307917888405,
          0.03431085043988169,
          0.3173753665689141,
          0.4288856304985327,
          0.4975073313782996,
          0.3173753665689141,
          0.15439882697947205,
          0.48892961876832963,
          0.4203079178885627,
          0.2830645161290324,
          0.3345307917888576,
          0.26590909090909065,
          0.042888563049853445,
          0.21444281524926723,
          0.12866568914956034,
          0.042888563049853445,
          0.5747067448680347,
          0.3345307917888576,
          0.051466275659823424,
          0.3345307917888576,
          0.017155425219941733,
          0.4203079178885627,
          0.1972873900293255,
          0.25733137829912067,
          0.16297653958944203,
          0.14582111436950207,
          0.6090175953079182,
          0.0600439882697934,
          0.0600439882697934,
          0.46319648093841614,
          0.017155425219941733,
          0.008577712609969979,
          0.34310850439882756,
          0.25733137829912067,
          0.008577712609969979,
          0.06862170087976693,
          0.30021994134897234,
          0.32595307917888405,
          0.48892961876832963,
          0.40315249266862097,
          0.025733137829911712,
          0.1115102639296186,
          0.15439882697947205,
          0.1115102639296186,
          0.017155425219941733,
          0.5403958944281531,
          0.017155425219941733,
          0.08577712609970689,
          0.26590909090909065,
          0.08577712609970689,
          0.548973607038123,
          0.07719941348973691,
          0.16297653958944203,
          0.557551319648093,
          0.017155425219941733,
          0.14582111436950207,
          0.07719941348973691,
          0.22302052785923898,
          0.15439882697947205,
          0.23159824046920896,
          0.20586510263929725,
          0.008577712609969979,
          0.5146627565982413,
          0.3345307917888576,
          0.16297653958944203,
          0.4288856304985327,
          0.042888563049853445,
          0.017155425219941733,
          0.34310850439882756,
          0.24017595307917894,
          0.385997067448681,
          0.23159824046920896,
          0.3173753665689141,
          0.3087976539589441,
          0.24017595307917894,
          0.40315249266862097,
          0.1972873900293255,
          0.40315249266862097,
          0.13724340175953031,
          0.385997067448681,
          0.4717741935483879,
          0.23159824046920896,
          0.37741935483870925,
          0.40315249266862097,
          0.5232404692082113,
          0.08577712609970689,
          0.1115102639296186,
          0.042888563049853445,
          0.051466275659823424,
          0.017155425219941733,
          0.18870967741935374,
          0.10293255131964862,
          0.4803519061583579,
          0.07719941348973691,
          0,
          0.14582111436950207,
          0.22302052785923898,
          0.0600439882697934,
          0.2830645161290324,
          0.13724340175953031,
          0.34310850439882756,
          0.32595307917888405,
          0.43746334310850443,
          0.042888563049853445,
          0.09435483870967865,
          0.5661290322580648,
          0,
          0.4288856304985327,
          0.548973607038123,
          0.22302052785923898,
          0.1115102639296186,
          0.29164222873900236,
          0.16297653958944203,
          0.25733137829912067,
          0.03431085043988169,
          0.3087976539589441,
          0.3602639296187693,
          0.26590909090909065,
          0.43746334310850443,
          0.25733137829912067,
          0.3602639296187693,
          0.008577712609969979,
          0.25733137829912067,
          0.03431085043988169,
          0.5318181818181813,
          0.16297653958944203,
          0.5403958944281531,
          0.18870967741935374,
          0.1115102639296186,
          0.042888563049853445,
          0.10293255131964862,
          0.008577712609969979,
          0.18870967741935374,
          0.43746334310850443,
          0.3173753665689141,
          0.16297653958944203,
          0.27448680351906063,
          0.12866568914956034,
          0.03431085043988169,
          0.07719941348973691,
          0.18870967741935374,
          0.43746334310850443,
          0.23159824046920896,
          0.09435483870967865,
          0.62617302052786,
          0.37741935483870925,
          0.1115102639296186,
          0.12008797653959036,
          0.3173753665689141,
          0.18870967741935374,
          0.14582111436950207,
          0.4546187683284444,
          0.24017595307917894,
          0.37741935483870925,
          0.2830645161290324,
          0.32595307917888405,
          0.27448680351906063,
          0.18013196480938376,
          0.1115102639296186,
          0.5318181818181813,
          0.6090175953079182,
          0.008577712609969979,
          0.025733137829911712,
          0.12008797653959036,
          0.03431085043988169,
          0.9864369501466275,
          0.13724340175953031,
          0.7119501466275651,
          0.29164222873900236,
          0.24875366568914892,
          0.025733137829911712,
          0.6347507331378299,
          0.18870967741935374,
          0.5318181818181813,
          0.3173753665689141,
          0,
          0.017155425219941733,
          0.5403958944281531,
          0.14582111436950207,
          0.03431085043988169,
          0.6090175953079182,
          0.25733137829912067,
          0.21444281524926723,
          0.18013196480938376,
          0.43746334310850443,
          0.26590909090909065,
          0.13724340175953031,
          0.3688416422287393,
          0.24875366568914892,
          0.4203079178885627,
          0.4117302052785927,
          0.37741935483870925,
          0.3688416422287393,
          0.18013196480938376,
          0.20586510263929725,
          0.3345307917888576,
          0.16297653958944203,
          0.24875366568914892,
          0.20586510263929725,
          0.008577712609969979,
          0.1115102639296186,
          0.12008797653959036,
          0.017155425219941733,
          0.26590909090909065,
          0.24875366568914892,
          0.042888563049853445,
          0.5060850439882696,
          0.385997067448681,
          0.08577712609970689,
          0.08577712609970689,
          0.051466275659823424,
          0.32595307917888405,
          0.5918621700879765,
          0.3087976539589441,
          0.43746334310850443,
          0.017155425219941733,
          0.385997067448681,
          0.37741935483870925,
          0.10293255131964862,
          0.08577712609970689,
          0.3087976539589441,
          0.6433284457478017,
          0.14582111436950207,
          0.3173753665689141,
          0.12866568914956034,
          0.07719941348973691,
          0.27448680351906063,
          0.042888563049853445,
          0.051466275659823424,
          0.042888563049853445,
          0.4717741935483879,
          0.051466275659823424,
          0.14582111436950207,
          0.61759530791789,
          0.25733137829912067,
          0.10293255131964862,
          0.12866568914956034,
          0.017155425219941733,
          0.017155425219941733,
          0.06862170087976693,
          0.16297653958944203,
          0.14582111436950207,
          0.5232404692082113,
          0.6004398826979482,
          0.26590909090909065,
          0.017155425219941733,
          0.12008797653959036,
          0.25733137829912067,
          0.30021994134897234,
          0.24017595307917894,
          0.8491935483870954,
          0.06862170087976693,
          0.29164222873900236,
          0.3602639296187693,
          0.4288856304985327,
          0.5403958944281531,
          0.10293255131964862,
          0.26590909090909065,
          0.23159824046920896,
          0.25733137829912067,
          0.16297653958944203,
          0.10293255131964862,
          0.1115102639296186,
          0.16297653958944203,
          0.22302052785923898,
          0.051466275659823424,
          0.29164222873900236,
          0.3173753665689141,
          0.07719941348973691,
          0.07719941348973691,
          0.27448680351906063,
          0.3087976539589441,
          0.1115102639296186,
          0.1115102639296186,
          0.26590909090909065,
          0.09435483870967865,
          0.03431085043988169,
          0.10293255131964862,
          0.08577712609970689,
          0.6090175953079182,
          0.37741935483870925,
          0.06862170087976693,
          0.23159824046920896,
          0.18013196480938376,
          0.6862170087976533,
          0.051466275659823424,
          0.6004398826979482,
          0.22302052785923898,
          0.017155425219941733,
          0.06862170087976693,
          0.07719941348973691,
          0.3087976539589441,
          0.29164222873900236,
          0.16297653958944203,
          0.025733137829911712,
          0.1115102639296186,
          0.26590909090909065,
          0.27448680351906063,
          0.2830645161290324,
          0.4203079178885627,
          0.0600439882697934,
          0.30021994134897234,
          0.18870967741935374,
          0.12008797653959036,
          0.27448680351906063,
          0.18013196480938376,
          0.1115102639296186,
          0.26590909090909065,
          0.051466275659823424,
          0.4975073313782996,
          0.2830645161290324,
          0.1972873900293255,
          0.042888563049853445,
          0.06862170087976693,
          0.385997067448681,
          0.32595307917888405,
          0.34310850439882756,
          0.7119501466275651,
          0.24017595307917894,
          0.15439882697947205,
          0.7719941348973602,
          0.13724340175953031,
          0.24875366568914892,
          0.042888563049853445,
          0.29164222873900236,
          0.24875366568914892,
          0.3345307917888576,
          0.1972873900293255,
          0.385997067448681,
          0.0600439882697934,
          0.18013196480938376,
          0.40315249266862097,
          0.5318181818181813,
          0.4203079178885627,
          0.25733137829912067,
          0.43746334310850443,
          0.1972873900293255,
          0.23159824046920896,
          0.23159824046920896,
          0.35168621700879754,
          0.0600439882697934,
          0.23159824046920896,
          0.025733137829911712,
          0.27448680351906063,
          0.18870967741935374,
          0,
          0.32595307917888405,
          0.34310850439882756,
          0.24875366568914892,
          0.24875366568914892,
          0.16297653958944203,
          0.25733137829912067,
          0.12866568914956034,
          0.3688416422287393,
          0.29164222873900236,
          0.7548387096774203,
          0.6519061583577717,
          0.2830645161290324,
          0.06862170087976693,
          0.35168621700879754,
          0.61759530791789,
          0.18013196480938376,
          0.17155425219941378,
          0.4117302052785927,
          0.042888563049853445,
          0.5747067448680347,
          0.1972873900293255,
          0.27448680351906063,
          0.4460410557184744,
          0.5403958944281531,
          0.15439882697947205,
          0.22302052785923898,
          0.042888563049853445,
          0.24017595307917894,
          0.09435483870967865,
          0.07719941348973691,
          0.07719941348973691,
          0.18013196480938376,
          0.6947947214076251,
          0.24875366568914892,
          0.12866568914956034,
          0.09435483870967865,
          0.43746334310850443,
          0.4717741935483879,
          0.3688416422287393,
          0.12008797653959036,
          0.5060850439882696,
          0.18013196480938376,
          0.15439882697947205,
          0.3087976539589441,
          0.6519061583577717,
          0.35168621700879754,
          0.22302052785923898,
          0.3173753665689141,
          0.03431085043988169,
          0.394574780058651,
          0.394574780058651,
          0.008577712609969979,
          0.4117302052785927,
          0.025733137829911712,
          0.24017595307917894,
          0.3087976539589441,
          0.10293255131964862
         ],
         "xaxis": "x",
         "yaxis": "y"
        }
       ],
       "layout": {
        "barmode": "relative",
        "legend": {
         "tracegroupgap": 0
        },
        "shapes": [
         {
          "line": {
           "color": "red",
           "width": 2
          },
          "opacity": 1,
          "type": "line",
          "x0": 0.6004398826979482,
          "x1": 0.6004398826979482,
          "xref": "x",
          "y0": 0,
          "y1": 1,
          "yref": "y domain"
         }
        ],
        "template": {
         "data": {
          "bar": [
           {
            "error_x": {
             "color": "#2a3f5f"
            },
            "error_y": {
             "color": "#2a3f5f"
            },
            "marker": {
             "line": {
              "color": "#E5ECF6",
              "width": 0.5
             },
             "pattern": {
              "fillmode": "overlay",
              "size": 10,
              "solidity": 0.2
             }
            },
            "type": "bar"
           }
          ],
          "barpolar": [
           {
            "marker": {
             "line": {
              "color": "#E5ECF6",
              "width": 0.5
             },
             "pattern": {
              "fillmode": "overlay",
              "size": 10,
              "solidity": 0.2
             }
            },
            "type": "barpolar"
           }
          ],
          "carpet": [
           {
            "aaxis": {
             "endlinecolor": "#2a3f5f",
             "gridcolor": "white",
             "linecolor": "white",
             "minorgridcolor": "white",
             "startlinecolor": "#2a3f5f"
            },
            "baxis": {
             "endlinecolor": "#2a3f5f",
             "gridcolor": "white",
             "linecolor": "white",
             "minorgridcolor": "white",
             "startlinecolor": "#2a3f5f"
            },
            "type": "carpet"
           }
          ],
          "choropleth": [
           {
            "colorbar": {
             "outlinewidth": 0,
             "ticks": ""
            },
            "type": "choropleth"
           }
          ],
          "contour": [
           {
            "colorbar": {
             "outlinewidth": 0,
             "ticks": ""
            },
            "colorscale": [
             [
              0,
              "#0d0887"
             ],
             [
              0.1111111111111111,
              "#46039f"
             ],
             [
              0.2222222222222222,
              "#7201a8"
             ],
             [
              0.3333333333333333,
              "#9c179e"
             ],
             [
              0.4444444444444444,
              "#bd3786"
             ],
             [
              0.5555555555555556,
              "#d8576b"
             ],
             [
              0.6666666666666666,
              "#ed7953"
             ],
             [
              0.7777777777777778,
              "#fb9f3a"
             ],
             [
              0.8888888888888888,
              "#fdca26"
             ],
             [
              1,
              "#f0f921"
             ]
            ],
            "type": "contour"
           }
          ],
          "contourcarpet": [
           {
            "colorbar": {
             "outlinewidth": 0,
             "ticks": ""
            },
            "type": "contourcarpet"
           }
          ],
          "heatmap": [
           {
            "colorbar": {
             "outlinewidth": 0,
             "ticks": ""
            },
            "colorscale": [
             [
              0,
              "#0d0887"
             ],
             [
              0.1111111111111111,
              "#46039f"
             ],
             [
              0.2222222222222222,
              "#7201a8"
             ],
             [
              0.3333333333333333,
              "#9c179e"
             ],
             [
              0.4444444444444444,
              "#bd3786"
             ],
             [
              0.5555555555555556,
              "#d8576b"
             ],
             [
              0.6666666666666666,
              "#ed7953"
             ],
             [
              0.7777777777777778,
              "#fb9f3a"
             ],
             [
              0.8888888888888888,
              "#fdca26"
             ],
             [
              1,
              "#f0f921"
             ]
            ],
            "type": "heatmap"
           }
          ],
          "heatmapgl": [
           {
            "colorbar": {
             "outlinewidth": 0,
             "ticks": ""
            },
            "colorscale": [
             [
              0,
              "#0d0887"
             ],
             [
              0.1111111111111111,
              "#46039f"
             ],
             [
              0.2222222222222222,
              "#7201a8"
             ],
             [
              0.3333333333333333,
              "#9c179e"
             ],
             [
              0.4444444444444444,
              "#bd3786"
             ],
             [
              0.5555555555555556,
              "#d8576b"
             ],
             [
              0.6666666666666666,
              "#ed7953"
             ],
             [
              0.7777777777777778,
              "#fb9f3a"
             ],
             [
              0.8888888888888888,
              "#fdca26"
             ],
             [
              1,
              "#f0f921"
             ]
            ],
            "type": "heatmapgl"
           }
          ],
          "histogram": [
           {
            "marker": {
             "pattern": {
              "fillmode": "overlay",
              "size": 10,
              "solidity": 0.2
             }
            },
            "type": "histogram"
           }
          ],
          "histogram2d": [
           {
            "colorbar": {
             "outlinewidth": 0,
             "ticks": ""
            },
            "colorscale": [
             [
              0,
              "#0d0887"
             ],
             [
              0.1111111111111111,
              "#46039f"
             ],
             [
              0.2222222222222222,
              "#7201a8"
             ],
             [
              0.3333333333333333,
              "#9c179e"
             ],
             [
              0.4444444444444444,
              "#bd3786"
             ],
             [
              0.5555555555555556,
              "#d8576b"
             ],
             [
              0.6666666666666666,
              "#ed7953"
             ],
             [
              0.7777777777777778,
              "#fb9f3a"
             ],
             [
              0.8888888888888888,
              "#fdca26"
             ],
             [
              1,
              "#f0f921"
             ]
            ],
            "type": "histogram2d"
           }
          ],
          "histogram2dcontour": [
           {
            "colorbar": {
             "outlinewidth": 0,
             "ticks": ""
            },
            "colorscale": [
             [
              0,
              "#0d0887"
             ],
             [
              0.1111111111111111,
              "#46039f"
             ],
             [
              0.2222222222222222,
              "#7201a8"
             ],
             [
              0.3333333333333333,
              "#9c179e"
             ],
             [
              0.4444444444444444,
              "#bd3786"
             ],
             [
              0.5555555555555556,
              "#d8576b"
             ],
             [
              0.6666666666666666,
              "#ed7953"
             ],
             [
              0.7777777777777778,
              "#fb9f3a"
             ],
             [
              0.8888888888888888,
              "#fdca26"
             ],
             [
              1,
              "#f0f921"
             ]
            ],
            "type": "histogram2dcontour"
           }
          ],
          "mesh3d": [
           {
            "colorbar": {
             "outlinewidth": 0,
             "ticks": ""
            },
            "type": "mesh3d"
           }
          ],
          "parcoords": [
           {
            "line": {
             "colorbar": {
              "outlinewidth": 0,
              "ticks": ""
             }
            },
            "type": "parcoords"
           }
          ],
          "pie": [
           {
            "automargin": true,
            "type": "pie"
           }
          ],
          "scatter": [
           {
            "fillpattern": {
             "fillmode": "overlay",
             "size": 10,
             "solidity": 0.2
            },
            "type": "scatter"
           }
          ],
          "scatter3d": [
           {
            "line": {
             "colorbar": {
              "outlinewidth": 0,
              "ticks": ""
             }
            },
            "marker": {
             "colorbar": {
              "outlinewidth": 0,
              "ticks": ""
             }
            },
            "type": "scatter3d"
           }
          ],
          "scattercarpet": [
           {
            "marker": {
             "colorbar": {
              "outlinewidth": 0,
              "ticks": ""
             }
            },
            "type": "scattercarpet"
           }
          ],
          "scattergeo": [
           {
            "marker": {
             "colorbar": {
              "outlinewidth": 0,
              "ticks": ""
             }
            },
            "type": "scattergeo"
           }
          ],
          "scattergl": [
           {
            "marker": {
             "colorbar": {
              "outlinewidth": 0,
              "ticks": ""
             }
            },
            "type": "scattergl"
           }
          ],
          "scattermapbox": [
           {
            "marker": {
             "colorbar": {
              "outlinewidth": 0,
              "ticks": ""
             }
            },
            "type": "scattermapbox"
           }
          ],
          "scatterpolar": [
           {
            "marker": {
             "colorbar": {
              "outlinewidth": 0,
              "ticks": ""
             }
            },
            "type": "scatterpolar"
           }
          ],
          "scatterpolargl": [
           {
            "marker": {
             "colorbar": {
              "outlinewidth": 0,
              "ticks": ""
             }
            },
            "type": "scatterpolargl"
           }
          ],
          "scatterternary": [
           {
            "marker": {
             "colorbar": {
              "outlinewidth": 0,
              "ticks": ""
             }
            },
            "type": "scatterternary"
           }
          ],
          "surface": [
           {
            "colorbar": {
             "outlinewidth": 0,
             "ticks": ""
            },
            "colorscale": [
             [
              0,
              "#0d0887"
             ],
             [
              0.1111111111111111,
              "#46039f"
             ],
             [
              0.2222222222222222,
              "#7201a8"
             ],
             [
              0.3333333333333333,
              "#9c179e"
             ],
             [
              0.4444444444444444,
              "#bd3786"
             ],
             [
              0.5555555555555556,
              "#d8576b"
             ],
             [
              0.6666666666666666,
              "#ed7953"
             ],
             [
              0.7777777777777778,
              "#fb9f3a"
             ],
             [
              0.8888888888888888,
              "#fdca26"
             ],
             [
              1,
              "#f0f921"
             ]
            ],
            "type": "surface"
           }
          ],
          "table": [
           {
            "cells": {
             "fill": {
              "color": "#EBF0F8"
             },
             "line": {
              "color": "white"
             }
            },
            "header": {
             "fill": {
              "color": "#C8D4E3"
             },
             "line": {
              "color": "white"
             }
            },
            "type": "table"
           }
          ]
         },
         "layout": {
          "annotationdefaults": {
           "arrowcolor": "#2a3f5f",
           "arrowhead": 0,
           "arrowwidth": 1
          },
          "autotypenumbers": "strict",
          "coloraxis": {
           "colorbar": {
            "outlinewidth": 0,
            "ticks": ""
           }
          },
          "colorscale": {
           "diverging": [
            [
             0,
             "#8e0152"
            ],
            [
             0.1,
             "#c51b7d"
            ],
            [
             0.2,
             "#de77ae"
            ],
            [
             0.3,
             "#f1b6da"
            ],
            [
             0.4,
             "#fde0ef"
            ],
            [
             0.5,
             "#f7f7f7"
            ],
            [
             0.6,
             "#e6f5d0"
            ],
            [
             0.7,
             "#b8e186"
            ],
            [
             0.8,
             "#7fbc41"
            ],
            [
             0.9,
             "#4d9221"
            ],
            [
             1,
             "#276419"
            ]
           ],
           "sequential": [
            [
             0,
             "#0d0887"
            ],
            [
             0.1111111111111111,
             "#46039f"
            ],
            [
             0.2222222222222222,
             "#7201a8"
            ],
            [
             0.3333333333333333,
             "#9c179e"
            ],
            [
             0.4444444444444444,
             "#bd3786"
            ],
            [
             0.5555555555555556,
             "#d8576b"
            ],
            [
             0.6666666666666666,
             "#ed7953"
            ],
            [
             0.7777777777777778,
             "#fb9f3a"
            ],
            [
             0.8888888888888888,
             "#fdca26"
            ],
            [
             1,
             "#f0f921"
            ]
           ],
           "sequentialminus": [
            [
             0,
             "#0d0887"
            ],
            [
             0.1111111111111111,
             "#46039f"
            ],
            [
             0.2222222222222222,
             "#7201a8"
            ],
            [
             0.3333333333333333,
             "#9c179e"
            ],
            [
             0.4444444444444444,
             "#bd3786"
            ],
            [
             0.5555555555555556,
             "#d8576b"
            ],
            [
             0.6666666666666666,
             "#ed7953"
            ],
            [
             0.7777777777777778,
             "#fb9f3a"
            ],
            [
             0.8888888888888888,
             "#fdca26"
            ],
            [
             1,
             "#f0f921"
            ]
           ]
          },
          "colorway": [
           "#636efa",
           "#EF553B",
           "#00cc96",
           "#ab63fa",
           "#FFA15A",
           "#19d3f3",
           "#FF6692",
           "#B6E880",
           "#FF97FF",
           "#FECB52"
          ],
          "font": {
           "color": "#2a3f5f"
          },
          "geo": {
           "bgcolor": "white",
           "lakecolor": "white",
           "landcolor": "#E5ECF6",
           "showlakes": true,
           "showland": true,
           "subunitcolor": "white"
          },
          "hoverlabel": {
           "align": "left"
          },
          "hovermode": "closest",
          "mapbox": {
           "style": "light"
          },
          "paper_bgcolor": "white",
          "plot_bgcolor": "#E5ECF6",
          "polar": {
           "angularaxis": {
            "gridcolor": "white",
            "linecolor": "white",
            "ticks": ""
           },
           "bgcolor": "#E5ECF6",
           "radialaxis": {
            "gridcolor": "white",
            "linecolor": "white",
            "ticks": ""
           }
          },
          "scene": {
           "xaxis": {
            "backgroundcolor": "#E5ECF6",
            "gridcolor": "white",
            "gridwidth": 2,
            "linecolor": "white",
            "showbackground": true,
            "ticks": "",
            "zerolinecolor": "white"
           },
           "yaxis": {
            "backgroundcolor": "#E5ECF6",
            "gridcolor": "white",
            "gridwidth": 2,
            "linecolor": "white",
            "showbackground": true,
            "ticks": "",
            "zerolinecolor": "white"
           },
           "zaxis": {
            "backgroundcolor": "#E5ECF6",
            "gridcolor": "white",
            "gridwidth": 2,
            "linecolor": "white",
            "showbackground": true,
            "ticks": "",
            "zerolinecolor": "white"
           }
          },
          "shapedefaults": {
           "line": {
            "color": "#2a3f5f"
           }
          },
          "ternary": {
           "aaxis": {
            "gridcolor": "white",
            "linecolor": "white",
            "ticks": ""
           },
           "baxis": {
            "gridcolor": "white",
            "linecolor": "white",
            "ticks": ""
           },
           "bgcolor": "#E5ECF6",
           "caxis": {
            "gridcolor": "white",
            "linecolor": "white",
            "ticks": ""
           }
          },
          "title": {
           "x": 0.05
          },
          "xaxis": {
           "automargin": true,
           "gridcolor": "white",
           "linecolor": "white",
           "ticks": "",
           "title": {
            "standoff": 15
           },
           "zerolinecolor": "white",
           "zerolinewidth": 2
          },
          "yaxis": {
           "automargin": true,
           "gridcolor": "white",
           "linecolor": "white",
           "ticks": "",
           "title": {
            "standoff": 15
           },
           "zerolinecolor": "white",
           "zerolinewidth": 2
          }
         }
        },
        "title": {
         "text": "Permutation Test Distribution"
        },
        "xaxis": {
         "anchor": "y",
         "domain": [
          0,
          1
         ],
         "title": {
          "text": "0"
         }
        },
        "yaxis": {
         "anchor": "x",
         "domain": [
          0,
          1
         ],
         "title": {
          "text": "probability"
         }
        }
       }
      }
     },
     "metadata": {},
     "output_type": "display_data"
    }
   ],
   "source": [
    "import plotly.express as px\n",
    "\n",
    "abs_diff_simulated = []\n",
    "for _ in range(1000):\n",
    "    abs_diff_simulated.append(simulate_null(skittles, col='orange'))\n",
    "\n",
    "observed_stat = diff_of_means(skittles, col='orange')\n",
    "\n",
    "p_val = np.mean(np.array(abs_diff_simulated) >= observed_stat)\n",
    "print(f\"p-val: {p_val}\")\n",
    "\n",
    "fig = px.histogram(pd.DataFrame(abs_diff_simulated), \n",
    "                   x=0, \n",
    "                   nbins=50, \n",
    "                   histnorm='probability', \n",
    "                   title='Permutation Test Distribution')\n",
    "\n",
    "fig.add_vline(x=observed_stat, line_color='red', line_width=2, opacity=1)\n",
    "\n",
    "fig.show()"
   ]
  },
  {
   "cell_type": "code",
   "execution_count": 132,
   "metadata": {},
   "outputs": [],
   "source": [
    "# don't change this cell -- it is needed for the tests to work\n",
    "# cell may take about 1-2 minutes to execute to completion\n",
    "skittles_fp = Path('data') / 'skittles.tsv'\n",
    "skittles = pd.read_csv(skittles_fp, sep='\\\\t', engine='python')\n",
    "q6_diff_of_means_out = diff_of_means(skittles)\n",
    "q6_simulate_null_out = simulate_null(skittles)\n",
    "q6_pval_out = color_p_value(skittles)"
   ]
  },
  {
   "cell_type": "code",
   "execution_count": 133,
   "metadata": {
    "deletable": false,
    "editable": false
   },
   "outputs": [
    {
     "data": {
      "text/html": [
       "<p><strong><pre style='display: inline;'>q6</pre></strong> passed!</p>"
      ],
      "text/plain": [
       "q6 results: All test cases passed!"
      ]
     },
     "execution_count": 133,
     "metadata": {},
     "output_type": "execute_result"
    }
   ],
   "source": [
    "grader.check(\"q6\")"
   ]
  },
  {
   "cell_type": "markdown",
   "metadata": {},
   "source": [
    "### Question 7 – Generalizing to all colors 🔴🟠🟡🟢🟣\n",
    "\n",
    "While your `color_p_value` function used a default color of `'orange'`, it should also work for all other colors of Skittles, meaning you can run the same permutation test from Question 7 on all colors of Skittles. Call `color_p_value` on all colors of Skittles to find which colors differ the most between the two locations on average. \n",
    "\n",
    "Then, complete the implementation of the function `ordered_colors`, which returns a list of five ordered pairs, each of the form `('color', p_value)`. For example, your list might look like `[('pink', 0.000), ('brown', 0.025), ...]`. \n",
    "\n",
    "The list should be **hard-coded**, meaning that you should run your permutation tests in your notebook, not in your `.py` file. The list should also be sorted in **increasing order of p-value**. Make sure your p-values are rounded to **3 decimal places**.\n",
    "\n",
    "Even though there is randomness in the color composition in each bag, this list gives the likelihood that the machines have a systematic, meaningful, difference in how they blend the colors in each bag."
   ]
  },
  {
   "cell_type": "code",
   "execution_count": 139,
   "metadata": {},
   "outputs": [
    {
     "data": {
      "text/html": [
       "<div>\n",
       "<style scoped>\n",
       "    .dataframe tbody tr th:only-of-type {\n",
       "        vertical-align: middle;\n",
       "    }\n",
       "\n",
       "    .dataframe tbody tr th {\n",
       "        vertical-align: top;\n",
       "    }\n",
       "\n",
       "    .dataframe thead th {\n",
       "        text-align: right;\n",
       "    }\n",
       "</style>\n",
       "<table border=\"1\" class=\"dataframe\">\n",
       "  <thead>\n",
       "    <tr style=\"text-align: right;\">\n",
       "      <th></th>\n",
       "      <th>red</th>\n",
       "      <th>orange</th>\n",
       "      <th>yellow</th>\n",
       "      <th>green</th>\n",
       "      <th>purple</th>\n",
       "      <th>Factory</th>\n",
       "    </tr>\n",
       "  </thead>\n",
       "  <tbody>\n",
       "    <tr>\n",
       "      <th>0</th>\n",
       "      <td>10</td>\n",
       "      <td>15</td>\n",
       "      <td>11</td>\n",
       "      <td>7</td>\n",
       "      <td>18</td>\n",
       "      <td>Yorkville</td>\n",
       "    </tr>\n",
       "    <tr>\n",
       "      <th>1</th>\n",
       "      <td>5</td>\n",
       "      <td>12</td>\n",
       "      <td>17</td>\n",
       "      <td>15</td>\n",
       "      <td>10</td>\n",
       "      <td>Yorkville</td>\n",
       "    </tr>\n",
       "    <tr>\n",
       "      <th>2</th>\n",
       "      <td>16</td>\n",
       "      <td>11</td>\n",
       "      <td>15</td>\n",
       "      <td>11</td>\n",
       "      <td>9</td>\n",
       "      <td>Waco</td>\n",
       "    </tr>\n",
       "    <tr>\n",
       "      <th>3</th>\n",
       "      <td>15</td>\n",
       "      <td>8</td>\n",
       "      <td>13</td>\n",
       "      <td>16</td>\n",
       "      <td>7</td>\n",
       "      <td>Waco</td>\n",
       "    </tr>\n",
       "    <tr>\n",
       "      <th>4</th>\n",
       "      <td>11</td>\n",
       "      <td>14</td>\n",
       "      <td>20</td>\n",
       "      <td>8</td>\n",
       "      <td>7</td>\n",
       "      <td>Waco</td>\n",
       "    </tr>\n",
       "    <tr>\n",
       "      <th>...</th>\n",
       "      <td>...</td>\n",
       "      <td>...</td>\n",
       "      <td>...</td>\n",
       "      <td>...</td>\n",
       "      <td>...</td>\n",
       "      <td>...</td>\n",
       "    </tr>\n",
       "    <tr>\n",
       "      <th>463</th>\n",
       "      <td>11</td>\n",
       "      <td>11</td>\n",
       "      <td>12</td>\n",
       "      <td>13</td>\n",
       "      <td>11</td>\n",
       "      <td>Waco</td>\n",
       "    </tr>\n",
       "    <tr>\n",
       "      <th>464</th>\n",
       "      <td>17</td>\n",
       "      <td>10</td>\n",
       "      <td>8</td>\n",
       "      <td>11</td>\n",
       "      <td>12</td>\n",
       "      <td>Waco</td>\n",
       "    </tr>\n",
       "    <tr>\n",
       "      <th>465</th>\n",
       "      <td>9</td>\n",
       "      <td>14</td>\n",
       "      <td>12</td>\n",
       "      <td>10</td>\n",
       "      <td>15</td>\n",
       "      <td>Waco</td>\n",
       "    </tr>\n",
       "    <tr>\n",
       "      <th>466</th>\n",
       "      <td>12</td>\n",
       "      <td>14</td>\n",
       "      <td>11</td>\n",
       "      <td>10</td>\n",
       "      <td>10</td>\n",
       "      <td>Waco</td>\n",
       "    </tr>\n",
       "    <tr>\n",
       "      <th>467</th>\n",
       "      <td>11</td>\n",
       "      <td>8</td>\n",
       "      <td>12</td>\n",
       "      <td>13</td>\n",
       "      <td>15</td>\n",
       "      <td>Yorkville</td>\n",
       "    </tr>\n",
       "  </tbody>\n",
       "</table>\n",
       "<p>468 rows × 6 columns</p>\n",
       "</div>"
      ],
      "text/plain": [
       "     red  orange  yellow  green  purple    Factory\n",
       "0     10      15      11      7      18  Yorkville\n",
       "1      5      12      17     15      10  Yorkville\n",
       "2     16      11      15     11       9       Waco\n",
       "3     15       8      13     16       7       Waco\n",
       "4     11      14      20      8       7       Waco\n",
       "..   ...     ...     ...    ...     ...        ...\n",
       "463   11      11      12     13      11       Waco\n",
       "464   17      10       8     11      12       Waco\n",
       "465    9      14      12     10      15       Waco\n",
       "466   12      14      11     10      10       Waco\n",
       "467   11       8      12     13      15  Yorkville\n",
       "\n",
       "[468 rows x 6 columns]"
      ]
     },
     "execution_count": 139,
     "metadata": {},
     "output_type": "execute_result"
    }
   ],
   "source": [
    "skittles"
   ]
  },
  {
   "cell_type": "code",
   "execution_count": 147,
   "metadata": {},
   "outputs": [
    {
     "data": {
      "text/plain": [
       "[0.0, 0.039, 0.213, 0.467, 0.976]"
      ]
     },
     "execution_count": 147,
     "metadata": {},
     "output_type": "execute_result"
    }
   ],
   "source": [
    "green = color_p_value(skittles, 'green')\n",
    "orange = color_p_value(skittles, 'orange')\n",
    "purple = color_p_value(skittles, 'purple')\n",
    "red = color_p_value(skittles, 'red')\n",
    "yellow = color_p_value(skittles, 'yellow')\n",
    "\n",
    "[green, orange, purple, red, yellow]\n",
    "# Why are my p-values so high? -> the color is not randomly distributed \n",
    "\n",
    "[yellow, orange, red, green, purple]\n",
    "[('yellow', 0.000), ('orange', 0.039), ('red', 0.213), ('green', 0.467), ('purple', 0.976)]\n",
    "\n",
    "# p-values have to be between 0 and 1, if you ever get a p-value outside that range, you're doing something wrong.\n",
    "\n",
    "# One quick sanity check is to print out your test statistic and just see how far it is from the null hypothesis. \n",
    "\n",
    "# In the context of this question, the null hypothesis is that there is no difference, which indicates that the difference \n",
    "# of the means is 0. Therefore, for low p-values the test statistic should be far from 0, and vice versa for high p-values."
   ]
  },
  {
   "cell_type": "code",
   "execution_count": null,
   "metadata": {},
   "outputs": [],
   "source": []
  },
  {
   "cell_type": "code",
   "execution_count": 150,
   "metadata": {},
   "outputs": [],
   "source": [
    "# don't change this cell -- it is needed for the tests to work\n",
    "q7_out = ordered_colors()\n",
    "q7_colors = {'green', 'orange', 'purple', 'red', 'yellow'}\n",
    "q7_test_colors = [x[0] for x in q7_out]"
   ]
  },
  {
   "cell_type": "code",
   "execution_count": 151,
   "metadata": {
    "deletable": false,
    "editable": false
   },
   "outputs": [
    {
     "data": {
      "text/html": [
       "<p><strong><pre style='display: inline;'>q7</pre></strong> passed!</p>"
      ],
      "text/plain": [
       "q7 results: All test cases passed!"
      ]
     },
     "execution_count": 151,
     "metadata": {},
     "output_type": "execute_result"
    }
   ],
   "source": [
    "grader.check(\"q7\")"
   ]
  },
  {
   "cell_type": "markdown",
   "metadata": {},
   "source": [
    "### Question 8 – Overall distributions 🏭\n",
    "\n",
    "Now, suppose you would like to assess whether the two locations make similar amounts of each color overall. That is, suppose we:\n",
    "* Combine and count up all the Skittles of each color that were made in Yorkville (e.g. 14303 total red skittles, 9091 total green skittles, etc.).\n",
    "* Combine and count up all the Skittles of each color that were made in Waco.\n",
    "\n",
    "Now, suppose you would like to assess whether the two locations make similar proportions of each color overall. That is, suppose we:\n",
    "* Calculate the proportion of each Skittles color that were made in Yorkville (e.g. out of the 14704 skittles made, 19.8% of them are red,  18.9% of them are green, etc.).\n",
    "* Calculate the proportion of each Skittles color that were made in Waco.\n",
    "\n",
    "**Are these distributions of colors similar?** Is the variation among the bags due to each factory making different amounts of each color?\n",
    "\n",
    "Use a permutation test to assess whether the distribution of colors of Skittles made in Yorkville is statistically significantly different than those made in Waco. Set a significance level (i.e. p-value cutoff) of 0.01 and determine whether you can reject a null hypothesis that answers the question above using a permutation test with 1000 trials. For your test statistic, use the **total variation distance (TVD)**.\n",
    "\n",
    "Refer to the end of [Lecture 6](https://dsc80.com/resources/lectures/lec06/lec06.html#Permutation-testing-meets-TVD) to see an example of a [permutation test](https://www.inferentialthinking.com/chapters/12/Comparing_Two_Samples.html) that uses the [TVD](https://inferentialthinking.com/chapters/11/2/Multiple_Categories.html) as the test statistic. Some guidance:\n",
    "\n",
    "- Our previous permutation tests have compared the mean number of (say) orange Skittles in Yorkville bags to the mean number number of orange Skittles in Waco bags. The role of shuffling was to randomly assign bags to Yorkville and Waco.\n",
    "- In this permutation test, we are **still** shuffling to randomly assign bags to Yorkville and Waco. The only difference is that after we randomly assign each bag to a factory, we will compute the **distribution** of colors among the two factories and find the TVD between those two distributions.\n",
    "\n",
    "**Your job**: Complete the implementation of the function `same_color_distribution`, which takes in no arguments and outputs a hard-coded **tuple** with the p-value and whether you `'Reject'` or `'Fail to reject'` the null hypothesis."
   ]
  },
  {
   "cell_type": "code",
   "execution_count": 195,
   "metadata": {},
   "outputs": [
    {
     "data": {
      "text/plain": [
       "np.float64(0.007)"
      ]
     },
     "execution_count": 195,
     "metadata": {},
     "output_type": "execute_result"
    }
   ],
   "source": [
    "# can use for-loop\n",
    "N = 1000\n",
    "tvds_simulated = []\n",
    "\n",
    "grouped = skittles.groupby('Factory').sum() \n",
    "sum_per_factory = grouped.sum(axis=1)\n",
    "distribution_of_colors = grouped.div(sum_per_factory, axis=0)\n",
    "\n",
    "obsv_tvd = (distribution_of_colors.loc['Yorkville'] - distribution_of_colors.loc['Waco']).abs().sum() /2\n",
    "\n",
    "for _ in range(N):\n",
    "    with_shuffled = skittles.assign(shuffled_factory=np.random.permutation(skittles['Factory']))\n",
    "    with_shuffled_without_factory = with_shuffled.loc[:, with_shuffled.columns != 'Factory']\n",
    "\n",
    "    grouped_shuff = with_shuffled_without_factory.groupby('shuffled_factory').sum() \n",
    "    sum_per_factory_shuff = grouped_shuff.sum(axis=1)\n",
    "    distribution_of_colors_shuff = grouped_shuff.div(sum_per_factory_shuff, axis=0)\n",
    "    \n",
    "    tvd = (distribution_of_colors_shuff.loc['Yorkville'] - distribution_of_colors_shuff.loc['Waco']).abs().sum() /2\n",
    "    tvds_simulated.append(tvd)\n",
    "\n",
    "p_val = np.mean(tvds_simulated >= obsv_tvd)\n",
    "p_val\n"
   ]
  },
  {
   "cell_type": "code",
   "execution_count": 196,
   "metadata": {},
   "outputs": [],
   "source": [
    "# don't change this cell -- it is needed for the tests to work\n",
    "q8_out = same_color_distribution()"
   ]
  },
  {
   "cell_type": "code",
   "execution_count": 197,
   "metadata": {
    "deletable": false,
    "editable": false
   },
   "outputs": [
    {
     "data": {
      "text/html": [
       "<p><strong><pre style='display: inline;'>q8</pre></strong> passed!</p>"
      ],
      "text/plain": [
       "q8 results: All test cases passed!"
      ]
     },
     "execution_count": 197,
     "metadata": {},
     "output_type": "execute_result"
    }
   ],
   "source": [
    "grader.check(\"q8\")"
   ]
  },
  {
   "cell_type": "markdown",
   "metadata": {},
   "source": [
    "### Question 9 – Permutation testing vs. hypothesis testing 🧪\n",
    "\n",
    "In each of the following scenarios, decide  whether  a  permutation test is appropriate to determine if there is a  significant difference between the quantities described. If a permutation test is appropriate, mark `'P'`. Otherwise, mark `'H'`.\n",
    "\n",
    "Record your answers in the function `perm_vs_hyp`, which outputs a list of length 5, containing the values `'P'` and `'H'`.\n",
    "\n",
    "1. Compare the DSC 80 pass rate between second years and third years who take the class.\n",
    "2. Compare the proportion of Data Science majors who have completed DSC 80 and the proportion of Data Science minors who have completed DSC 80.\n",
    "3. Compare the proportion of students who have iPhones to the proportion of students who have Android phones (for simplicity, assume that all students either have an iPhone or an Android).\n",
    "4. In DSC 80, we ask all students whether they liked DSC 40A or DSC 40B more. Compare the proportion of students who preferred DSC 40A to the proportion who preferred DSC 40B.\n",
    "5. A sales company has two branches, one in city A and one in city B. You want to compare the amount of sales revenue brought in by employees at the two branches.\n",
    "\n",
    "***Hint***: Think about the type of data you would collect in each case, and how you would simulate new data under the null hypothesis. It will be useful to refer to the explanation at the start of Part 3."
   ]
  },
  {
   "cell_type": "markdown",
   "metadata": {},
   "source": [
    "Recall, hypothesis tests answer questions of the form:\n",
    "\n",
    "> I have a population distribution, and I have one sample. Does this sample look like it was drawn from the population?\n",
    "\n",
    "While permutation tests answer questions of the form:\n",
    "\n",
    "> I have two samples, but no information about any population distributions. Do these samples look like they were drawn from the same population?"
   ]
  },
  {
   "cell_type": "code",
   "execution_count": null,
   "metadata": {},
   "outputs": [],
   "source": [
    "# 1. Compare the DSC 80 pass rate between second years and third years who take the class. P\n",
    "# 2. Compare the proportion of Data Science majors who have completed DSC 80 and the proportion of Data Science minors who have completed DSC 80. P\n",
    "# 3. Compare the proportion of students who have iPhones to the proportion of students who have Android phones \n",
    "#    (for simplicity, assume that all students either have an iPhone or an Android). P\n",
    "# 4. In DSC 80, we ask all students whether they liked DSC 40A or DSC 40B more. Compare the proportion of students who preferred DSC 40A to the \n",
    "#    proportion who preferred DSC 40B. H\n",
    "        # this is because all the students could have not taken 40b so we are looking at a larger population that we can draw this sample from\n",
    "# 5. A sales company has two branches, one in city A and one in city B. You want to compare the amount of sales revenue brought in by employees at \n",
    "#    the two branches. P\n",
    "\n",
    "['P', 'P', 'P', 'H', 'P']"
   ]
  },
  {
   "cell_type": "code",
   "execution_count": null,
   "metadata": {},
   "outputs": [],
   "source": [
    "# if the sample is basically the population, then we use a p test. there are only those two options for the sample (iphone or andriod)\n",
    "# if we are tyring to compare two samples "
   ]
  },
  {
   "cell_type": "code",
   "execution_count": 198,
   "metadata": {},
   "outputs": [],
   "source": [
    "# don't change this cell -- it is needed for the tests to work\n",
    "q9_out = perm_vs_hyp()"
   ]
  },
  {
   "cell_type": "code",
   "execution_count": 199,
   "metadata": {
    "deletable": false,
    "editable": false
   },
   "outputs": [
    {
     "data": {
      "text/html": [
       "<p><strong><pre style='display: inline;'>q9</pre></strong> passed!</p>"
      ],
      "text/plain": [
       "q9 results: All test cases passed!"
      ]
     },
     "execution_count": 199,
     "metadata": {},
     "output_type": "execute_result"
    }
   ],
   "source": [
    "grader.check(\"q9\")"
   ]
  },
  {
   "cell_type": "markdown",
   "metadata": {},
   "source": [
    "## Congratulations! You're done Lab 4! 🏁\n",
    "\n",
    "As a reminder, all of the work you want to submit needs to be in `lab.py`.\n",
    "\n",
    "To ensure that all of the work you want to submit is in `lab.py`, we've included a script named `lab-validation.py` in the lab folder. You shouldn't edit it, but instead, you should call it from the command line (e.g. the Terminal) to test your work.\n",
    "\n",
    "Once you've finished the lab, you should open the command line and run, in the directory for this lab:\n",
    "\n",
    "```\n",
    "python lab-validation.py\n",
    "```\n",
    "\n",
    "**This will run all of the `grader.check` cells that you see in this notebook, but only using the code in `lab.py` – that is, it doesn't look at any of the code in this notebook. If all of your `grader.check` cells pass in this notebook but not all of them pass in your command line with the above command, then you likely have code in your notebook that isn't in your `lab.py`!**\n",
    "\n",
    "You can also use `lab-validation.py` to test individual questions. For instance,\n",
    "\n",
    "```\n",
    "python lab-validation.py q1 q2 q4\n",
    "```\n",
    "\n",
    "will run the `grader.check` cells for Questions 1, 2, and 4 – again, only using the code in `lab.py`. [This video](https://www.loom.com/share/0ea254b85b2745e59322b5e5a8692e91?sid=5acc92e6-0dfe-4555-9b6a-8115b6a52f99) how to use the script as well.\n",
    "\n",
    "Once `python lab-validation.py` shows that you're passing all test cases, you're ready to submit your `lab.py` (and only your `lab.py`) to Gradescope. Once submitting to Gradescope, make sure to stick around until all test cases pass.\n",
    "\n",
    "There is also a call to `grader.check_all()` below in _this_ notebook, but make sure to also follow the steps above."
   ]
  },
  {
   "cell_type": "markdown",
   "metadata": {
    "deletable": false,
    "editable": false
   },
   "source": [
    "---\n",
    "\n",
    "To double-check your work, the cell below will rerun all of the autograder tests."
   ]
  },
  {
   "cell_type": "code",
   "execution_count": 200,
   "metadata": {
    "deletable": false,
    "editable": false
   },
   "outputs": [
    {
     "data": {
      "text/plain": [
       "q1 results: All test cases passed!\n",
       "\n",
       "q2 results: All test cases passed!\n",
       "\n",
       "q3 results: All test cases passed!\n",
       "\n",
       "q4 results: All test cases passed!\n",
       "\n",
       "q5 results: All test cases passed!\n",
       "\n",
       "q6 results: All test cases passed!\n",
       "\n",
       "q7 results: All test cases passed!\n",
       "\n",
       "q8 results: All test cases passed!\n",
       "\n",
       "q9 results: All test cases passed!"
      ]
     },
     "execution_count": 200,
     "metadata": {},
     "output_type": "execute_result"
    }
   ],
   "source": [
    "grader.check_all()"
   ]
  }
 ],
 "metadata": {
  "kernel_info": {
   "name": "python3"
  },
  "kernelspec": {
   "display_name": "Python 3 (ipykernel)",
   "language": "python",
   "name": "python3"
  },
  "language_info": {
   "codemirror_mode": {
    "name": "ipython",
    "version": 3
   },
   "file_extension": ".py",
   "mimetype": "text/x-python",
   "name": "python",
   "nbconvert_exporter": "python",
   "pygments_lexer": "ipython3",
   "version": "3.12.6"
  },
  "nteract": {
   "version": "0.15.0"
  },
  "otter": {
   "tests": {
    "q1": {
     "name": "q1",
     "points": null,
     "suites": [
      {
       "cases": [
        {
         "code": ">>> len(q1_result) == 433\nTrue",
         "hidden": false,
         "locked": false,
         "points": 0.5
        },
        {
         "code": ">>> bool(q1_result.loc[393, \"Time\"] > 9)\nTrue",
         "hidden": false,
         "locked": false,
         "points": 0.5
        },
        {
         "code": ">>> bool(q1_result.loc[457, 'Time'] == 4)\nTrue",
         "failure_message": "check user 457",
         "hidden": false,
         "locked": false,
         "points": 0.5
        },
        {
         "code": ">>> bool(q1_result.loc[458, 'Time'] > 50)\nTrue",
         "failure_message": "check user 457",
         "hidden": false,
         "locked": false,
         "points": 0.5
        },
        {
         "code": ">>> len(set(q1_result.index)) == 433\nTrue",
         "failure_message": "check number of unique users",
         "hidden": false,
         "locked": false,
         "points": 1
        }
       ],
       "scored": true,
       "setup": "",
       "teardown": "",
       "type": "doctest"
      }
     ]
    },
    "q2": {
     "name": "q2",
     "points": null,
     "suites": [
      {
       "cases": [
        {
         "code": ">>> len(q2_result) == 433\nTrue",
         "hidden": false,
         "locked": false,
         "points": 0.5
        },
        {
         "code": ">>> bool(np.isclose(q2_result.loc[466], 0.24250681198910082))\nTrue",
         "hidden": false,
         "locked": false,
         "points": 0.5
        }
       ],
       "scored": true,
       "setup": "",
       "teardown": "",
       "type": "doctest"
      }
     ]
    },
    "q3": {
     "name": "q3",
     "points": null,
     "suites": [
      {
       "cases": [
        {
         "code": ">>> isinstance(cookies_null_hypothesis(), list)\nTrue",
         "hidden": false,
         "locked": false,
         "points": 1
        },
        {
         "code": ">>> set(cookies_null_hypothesis()).issubset({1, 2, 3, 4})\nTrue",
         "hidden": false,
         "locked": false,
         "points": 1
        },
        {
         "code": ">>> 0 < cookies_p_value(1000) < 0.6\nTrue",
         "hidden": false,
         "locked": false,
         "points": 1
        }
       ],
       "scored": true,
       "setup": "",
       "teardown": "",
       "type": "doctest"
      }
     ]
    },
    "q4": {
     "name": "q4",
     "points": null,
     "suites": [
      {
       "cases": [
        {
         "code": ">>> set(car_null_hypothesis()) <= set(range(1, 7))\nTrue",
         "hidden": false,
         "locked": false,
         "points": 0.5
        },
        {
         "code": ">>> set(car_alt_hypothesis()) <= set(range(1, 7))\nTrue",
         "hidden": false,
         "locked": false,
         "points": 0.5
        },
        {
         "code": ">>> set(car_test_statistic()) <= set(range(1, 5))\nTrue",
         "hidden": false,
         "locked": false,
         "points": 0.5
        },
        {
         "code": ">>> car_p_value() in set(range(1, 6))\nTrue",
         "hidden": false,
         "locked": false,
         "points": 0.5
        }
       ],
       "scored": true,
       "setup": "",
       "teardown": "",
       "type": "doctest"
      }
     ]
    },
    "q5": {
     "name": "q5",
     "points": null,
     "suites": [
      {
       "cases": [
        {
         "code": ">>> set(superheroes_test_statistic()) <= set(range(1, 5))\nTrue",
         "hidden": false,
         "locked": false,
         "points": 1
        },
        {
         "code": ">>> isinstance(bhbe_out, pd.Series)\nTrue",
         "hidden": false,
         "locked": false,
         "points": 1
        },
        {
         "code": ">>> bhbe_out.dtype == np.dtype('bool')\nTrue",
         "hidden": false,
         "locked": false,
         "points": 1
        },
        {
         "code": ">>> bool(bhbe_out.sum() == 93)\nTrue",
         "hidden": false,
         "locked": false,
         "points": 1
        },
        {
         "code": ">>> bool(0.5 <= obs_stat_out <= 1.0)\nTrue",
         "hidden": false,
         "locked": false,
         "points": 1
        },
        {
         "code": ">>> isinstance(simulate_bhbe_out, np.ndarray)\nTrue",
         "hidden": false,
         "locked": false,
         "points": 1
        },
        {
         "code": ">>> simulate_bhbe_out.shape[0] == 10\nTrue",
         "hidden": false,
         "locked": false,
         "points": 1
        },
        {
         "code": ">>> bool(((0.45 <= simulate_bhbe_out) & (simulate_bhbe_out <= 1)).all())\nTrue",
         "hidden": false,
         "locked": false,
         "points": 1
        },
        {
         "code": ">>> len(pval_out) == 2\nTrue",
         "hidden": false,
         "locked": false,
         "points": 1
        },
        {
         "code": ">>> 0 <= pval_out[0] <= 1\nTrue",
         "hidden": false,
         "locked": false,
         "points": 1
        },
        {
         "code": ">>> pval_out[1] in ['Reject', 'Fail to reject']\nTrue",
         "hidden": false,
         "locked": false,
         "points": 1
        }
       ],
       "scored": true,
       "setup": "",
       "teardown": "",
       "type": "doctest"
      }
     ]
    },
    "q6": {
     "name": "q6",
     "points": null,
     "suites": [
      {
       "cases": [
        {
         "code": ">>> isinstance(q6_diff_of_means_out, float)\nTrue",
         "hidden": false,
         "locked": false,
         "points": 0.5
        },
        {
         "code": ">>> isinstance(q6_simulate_null_out, float)\nTrue",
         "hidden": false,
         "locked": false,
         "points": 0.5
        },
        {
         "code": ">>> bool(0 <= q6_simulate_null_out <= 1.0)\nTrue",
         "hidden": false,
         "locked": false,
         "points": 0.5
        },
        {
         "code": ">>> isinstance(q6_pval_out, float)\nTrue",
         "hidden": false,
         "locked": false,
         "points": 0.5
        },
        {
         "code": ">>> bool(0 <= q6_pval_out <= 1)\nTrue",
         "hidden": false,
         "locked": false,
         "points": 0.5
        },
        {
         "code": ">>> bool(q6_diff_of_means_out > 0)\nTrue",
         "failure_message": "should be greater than zero",
         "hidden": false,
         "locked": false,
         "points": 1
        }
       ],
       "scored": true,
       "setup": "",
       "teardown": "",
       "type": "doctest"
      }
     ]
    },
    "q7": {
     "name": "q7",
     "points": null,
     "suites": [
      {
       "cases": [
        {
         "code": ">>> len(q7_out) == 5\nTrue",
         "hidden": false,
         "locked": false,
         "points": 0.5
        },
        {
         "code": ">>> set([x[0] for x in q7_out]) == q7_colors\nTrue",
         "hidden": false,
         "locked": false,
         "points": 0.5
        },
        {
         "code": ">>> all([isinstance(x[1], float) for x in q7_out])\nTrue",
         "hidden": false,
         "locked": false,
         "points": 0.5
        },
        {
         "code": ">>> q7_test_colors.index('green') > q7_test_colors.index('yellow')\nTrue",
         "failure_message": "yellow less than green",
         "hidden": false,
         "locked": false,
         "points": 1
        },
        {
         "code": ">>> bool(np.isclose(q7_out[0][1], 0.0))\nTrue",
         "failure_message": "smallest pval",
         "hidden": false,
         "locked": false,
         "points": 1
        }
       ],
       "scored": true,
       "setup": "",
       "teardown": "",
       "type": "doctest"
      }
     ]
    },
    "q8": {
     "name": "q8",
     "points": null,
     "suites": [
      {
       "cases": [
        {
         "code": ">>> isinstance(q8_out, tuple)\nTrue",
         "failure_message": "tuple",
         "hidden": false,
         "locked": false,
         "points": 0.5
        },
        {
         "code": ">>> isinstance(q8_out[0], float)\nTrue",
         "failure_message": "wrong output type at index 0",
         "hidden": false,
         "locked": false,
         "points": 1
        },
        {
         "code": ">>> q8_out[1] in ['Fail to Reject', 'Reject']\nTrue",
         "failure_message": "wrong output type at index 1",
         "hidden": false,
         "locked": false,
         "points": 1
        },
        {
         "code": ">>> bool(np.isclose(q8_out[0], 0.005, atol=0.25))\nTrue",
         "failure_message": "p-value, approximate within 0.25",
         "hidden": false,
         "locked": false,
         "points": 1
        },
        {
         "code": ">>> bool(np.isclose(q8_out[0], 0.005, atol=0.5))\nTrue",
         "failure_message": "p-value, approximate within 0.5",
         "hidden": false,
         "locked": false,
         "points": 1
        }
       ],
       "scored": true,
       "setup": "",
       "teardown": "",
       "type": "doctest"
      }
     ]
    },
    "q9": {
     "name": "q9",
     "points": null,
     "suites": [
      {
       "cases": [
        {
         "code": ">>> len(q9_out) == 5\nTrue",
         "failure_message": "output length should be 5",
         "hidden": false,
         "locked": false,
         "points": 1
        },
        {
         "code": ">>> set(q9_out) <= set(['P', 'H'])\nTrue",
         "failure_message": "output contains answers other than P or H",
         "hidden": false,
         "locked": false,
         "points": 1
        }
       ],
       "scored": true,
       "setup": "",
       "teardown": "",
       "type": "doctest"
      }
     ]
    }
   }
  }
 },
 "nbformat": 4,
 "nbformat_minor": 4
}
